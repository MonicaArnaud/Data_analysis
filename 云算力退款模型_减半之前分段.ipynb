{
 "cells": [
  {
   "cell_type": "code",
   "execution_count": 1,
   "metadata": {},
   "outputs": [],
   "source": [
    "#There are two components to running a Monte Carlo simulations:\n",
    "#the equation to evaluate\n",
    "#the random variables for the input"
   ]
  },
  {
   "cell_type": "code",
   "execution_count": 2,
   "metadata": {},
   "outputs": [],
   "source": [
    "import pandas as pd\n",
    "import numpy as np\n",
    "import seaborn as sns\n",
    "sns.set_style('whitegrid')"
   ]
  },
  {
   "cell_type": "markdown",
   "metadata": {},
   "source": [
    "**Predict the Bitcoin Price**"
   ]
  },
  {
   "cell_type": "code",
   "execution_count": 3,
   "metadata": {},
   "outputs": [],
   "source": [
    "#Determine the Bitcoin price voltility,120 days historical voltility 3.32%,number of simulation equals to 1000\n",
    "avg = 9337.74\n",
    "std_dtv =310.013\n",
    "num_reps = 166\n",
    "num_simulations = 1000"
   ]
  },
  {
   "cell_type": "code",
   "execution_count": 4,
   "metadata": {},
   "outputs": [],
   "source": [
    "btc_price= np.random.normal(avg,std_dtv,num_reps).round(2)"
   ]
  },
  {
   "cell_type": "code",
   "execution_count": 5,
   "metadata": {
    "scrolled": true
   },
   "outputs": [
    {
     "name": "stdout",
     "output_type": "stream",
     "text": [
      "166\n"
     ]
    }
   ],
   "source": [
    "btc_price[0:166]\n",
    "print(len(btc_price))"
   ]
  },
  {
   "cell_type": "markdown",
   "metadata": {},
   "source": [
    "**Predict the mining output**"
   ]
  },
  {
   "cell_type": "code",
   "execution_count": 6,
   "metadata": {},
   "outputs": [],
   "source": [
    "daily_output_summary = []\n",
    "daily_output=0.00001938\n",
    "\n",
    "for day in range(166):\n",
    "    if day == 4:\n",
    "        daily_output  = daily_output * 1.0313\n",
    "    if (day - 4) % 14 == 0 and day - 4 != 0:\n",
    "        daily_output = daily_output * 0.96\n",
    "    daily_output_summary.append(daily_output)"
   ]
  },
  {
   "cell_type": "code",
   "execution_count": 7,
   "metadata": {},
   "outputs": [
    {
     "name": "stdout",
     "output_type": "stream",
     "text": [
      "166\n"
     ]
    }
   ],
   "source": [
    "Daily_output_btc=daily_output_summary\n",
    "print(len(Daily_output_btc))"
   ]
  },
  {
   "cell_type": "code",
   "execution_count": 8,
   "metadata": {},
   "outputs": [
    {
     "data": {
      "text/plain": [
       "1.2756230374571436e-05"
      ]
     },
     "execution_count": 8,
     "metadata": {},
     "output_type": "execute_result"
    }
   ],
   "source": [
    "#show the last day's output\n",
    "Daily_output_btc[165]"
   ]
  },
  {
   "cell_type": "markdown",
   "metadata": {},
   "source": [
    "**Calculate the mining revenu and Cloud Mining Contract Price**"
   ]
  },
  {
   "cell_type": "code",
   "execution_count": 9,
   "metadata": {},
   "outputs": [],
   "source": [
    "df = pd.DataFrame(index=range(num_reps),data={'Btc_price':btc_price,\n",
    "                                             'Daily_output':Daily_output_btc})\n",
    "df['Revenu']=df['Btc_price']*df['Daily_output']"
   ]
  },
  {
   "cell_type": "code",
   "execution_count": 10,
   "metadata": {},
   "outputs": [],
   "source": [
    "Revenu = df['Btc_price']*df['Daily_output']"
   ]
  },
  {
   "cell_type": "code",
   "execution_count": 11,
   "metadata": {
    "scrolled": true
   },
   "outputs": [
    {
     "data": {
      "text/plain": [
       "0      0.000019\n",
       "1      0.000019\n",
       "2      0.000019\n",
       "3      0.000019\n",
       "4      0.000020\n",
       "5      0.000020\n",
       "6      0.000020\n",
       "7      0.000020\n",
       "8      0.000020\n",
       "9      0.000020\n",
       "10     0.000020\n",
       "11     0.000020\n",
       "12     0.000020\n",
       "13     0.000020\n",
       "14     0.000020\n",
       "15     0.000020\n",
       "16     0.000020\n",
       "17     0.000020\n",
       "18     0.000019\n",
       "19     0.000019\n",
       "20     0.000019\n",
       "21     0.000019\n",
       "22     0.000019\n",
       "23     0.000019\n",
       "24     0.000019\n",
       "25     0.000019\n",
       "26     0.000019\n",
       "27     0.000019\n",
       "28     0.000019\n",
       "29     0.000019\n",
       "         ...   \n",
       "136    0.000014\n",
       "137    0.000014\n",
       "138    0.000014\n",
       "139    0.000014\n",
       "140    0.000014\n",
       "141    0.000014\n",
       "142    0.000014\n",
       "143    0.000014\n",
       "144    0.000013\n",
       "145    0.000013\n",
       "146    0.000013\n",
       "147    0.000013\n",
       "148    0.000013\n",
       "149    0.000013\n",
       "150    0.000013\n",
       "151    0.000013\n",
       "152    0.000013\n",
       "153    0.000013\n",
       "154    0.000013\n",
       "155    0.000013\n",
       "156    0.000013\n",
       "157    0.000013\n",
       "158    0.000013\n",
       "159    0.000013\n",
       "160    0.000013\n",
       "161    0.000013\n",
       "162    0.000013\n",
       "163    0.000013\n",
       "164    0.000013\n",
       "165    0.000013\n",
       "Name: Daily_output, Length: 166, dtype: float64"
      ]
     },
     "execution_count": 11,
     "metadata": {},
     "output_type": "execute_result"
    }
   ],
   "source": [
    "df['Daily_output'].round(10)"
   ]
  },
  {
   "cell_type": "code",
   "execution_count": 12,
   "metadata": {},
   "outputs": [],
   "source": [
    "#Cloud mining pricing\n",
    "cloud_price = df['Revenu']*300\n",
    "df = pd.DataFrame(index=range(num_reps),data={'Btc_price':btc_price,\n",
    "                                             'Daily_output':daily_output_summary,\n",
    "                                              'Revenue':Revenu,\n",
    "                                             'Cloud_price':cloud_price})"
   ]
  },
  {
   "cell_type": "code",
   "execution_count": 13,
   "metadata": {},
   "outputs": [
    {
     "data": {
      "text/plain": [
       "<matplotlib.axes._subplots.AxesSubplot at 0x29a216d6630>"
      ]
     },
     "execution_count": 13,
     "metadata": {},
     "output_type": "execute_result"
    },
    {
     "data": {
      "image/png": "[encoded data removed]",
      "text/plain": [
       "<Figure size 432x288 with 1 Axes>"
      ]
     },
     "metadata": {
      "needs_background": "light"
     },
     "output_type": "display_data"
    }
   ],
   "source": [
    "df['Daily_output'].plot(kind='line',title='Daily output distribution')"
   ]
  },
  {
   "cell_type": "code",
   "execution_count": 14,
   "metadata": {
    "scrolled": false
   },
   "outputs": [
    {
     "data": {
      "text/html": [
       "<div>\n",
       "<style scoped>\n",
       "    .dataframe tbody tr th:only-of-type {\n",
       "        vertical-align: middle;\n",
       "    }\n",
       "\n",
       "    .dataframe tbody tr th {\n",
       "        vertical-align: top;\n",
       "    }\n",
       "\n",
       "    .dataframe thead th {\n",
       "        text-align: right;\n",
       "    }\n",
       "</style>\n",
       "<table border=\"1\" class=\"dataframe\">\n",
       "  <thead>\n",
       "    <tr style=\"text-align: right;\">\n",
       "      <th></th>\n",
       "      <th>Btc_price</th>\n",
       "      <th>Daily_output</th>\n",
       "      <th>Revenue</th>\n",
       "      <th>Cloud_price</th>\n",
       "    </tr>\n",
       "  </thead>\n",
       "  <tbody>\n",
       "    <tr>\n",
       "      <th>0</th>\n",
       "      <td>9361.84</td>\n",
       "      <td>0.000019</td>\n",
       "      <td>0.181432</td>\n",
       "      <td>54.429738</td>\n",
       "    </tr>\n",
       "    <tr>\n",
       "      <th>1</th>\n",
       "      <td>9317.56</td>\n",
       "      <td>0.000019</td>\n",
       "      <td>0.180574</td>\n",
       "      <td>54.172294</td>\n",
       "    </tr>\n",
       "    <tr>\n",
       "      <th>2</th>\n",
       "      <td>8986.71</td>\n",
       "      <td>0.000019</td>\n",
       "      <td>0.174162</td>\n",
       "      <td>52.248732</td>\n",
       "    </tr>\n",
       "    <tr>\n",
       "      <th>3</th>\n",
       "      <td>9219.18</td>\n",
       "      <td>0.000019</td>\n",
       "      <td>0.178668</td>\n",
       "      <td>53.600313</td>\n",
       "    </tr>\n",
       "    <tr>\n",
       "      <th>4</th>\n",
       "      <td>9758.21</td>\n",
       "      <td>0.000020</td>\n",
       "      <td>0.195033</td>\n",
       "      <td>58.510014</td>\n",
       "    </tr>\n",
       "  </tbody>\n",
       "</table>\n",
       "</div>"
      ],
      "text/plain": [
       "   Btc_price  Daily_output   Revenue  Cloud_price\n",
       "0    9361.84      0.000019  0.181432    54.429738\n",
       "1    9317.56      0.000019  0.180574    54.172294\n",
       "2    8986.71      0.000019  0.174162    52.248732\n",
       "3    9219.18      0.000019  0.178668    53.600313\n",
       "4    9758.21      0.000020  0.195033    58.510014"
      ]
     },
     "execution_count": 14,
     "metadata": {},
     "output_type": "execute_result"
    }
   ],
   "source": [
    "df.head().round(8)"
   ]
  },
  {
   "cell_type": "code",
   "execution_count": 15,
   "metadata": {
    "scrolled": false
   },
   "outputs": [
    {
     "data": {
      "text/html": [
       "<div>\n",
       "<style scoped>\n",
       "    .dataframe tbody tr th:only-of-type {\n",
       "        vertical-align: middle;\n",
       "    }\n",
       "\n",
       "    .dataframe tbody tr th {\n",
       "        vertical-align: top;\n",
       "    }\n",
       "\n",
       "    .dataframe thead th {\n",
       "        text-align: right;\n",
       "    }\n",
       "</style>\n",
       "<table border=\"1\" class=\"dataframe\">\n",
       "  <thead>\n",
       "    <tr style=\"text-align: right;\">\n",
       "      <th></th>\n",
       "      <th>Btc_price</th>\n",
       "      <th>Daily_output</th>\n",
       "      <th>Revenue</th>\n",
       "      <th>Cloud_price</th>\n",
       "    </tr>\n",
       "  </thead>\n",
       "  <tbody>\n",
       "    <tr>\n",
       "      <th>161</th>\n",
       "      <td>9134.68</td>\n",
       "      <td>0.000013</td>\n",
       "      <td>0.116524</td>\n",
       "      <td>34.957225</td>\n",
       "    </tr>\n",
       "    <tr>\n",
       "      <th>162</th>\n",
       "      <td>9022.42</td>\n",
       "      <td>0.000013</td>\n",
       "      <td>0.115092</td>\n",
       "      <td>34.527620</td>\n",
       "    </tr>\n",
       "    <tr>\n",
       "      <th>163</th>\n",
       "      <td>8845.72</td>\n",
       "      <td>0.000013</td>\n",
       "      <td>0.112838</td>\n",
       "      <td>33.851413</td>\n",
       "    </tr>\n",
       "    <tr>\n",
       "      <th>164</th>\n",
       "      <td>9332.29</td>\n",
       "      <td>0.000013</td>\n",
       "      <td>0.119045</td>\n",
       "      <td>35.713452</td>\n",
       "    </tr>\n",
       "    <tr>\n",
       "      <th>165</th>\n",
       "      <td>9464.39</td>\n",
       "      <td>0.000013</td>\n",
       "      <td>0.120730</td>\n",
       "      <td>36.218982</td>\n",
       "    </tr>\n",
       "  </tbody>\n",
       "</table>\n",
       "</div>"
      ],
      "text/plain": [
       "     Btc_price  Daily_output   Revenue  Cloud_price\n",
       "161    9134.68      0.000013  0.116524    34.957225\n",
       "162    9022.42      0.000013  0.115092    34.527620\n",
       "163    8845.72      0.000013  0.112838    33.851413\n",
       "164    9332.29      0.000013  0.119045    35.713452\n",
       "165    9464.39      0.000013  0.120730    36.218982"
      ]
     },
     "execution_count": 15,
     "metadata": {},
     "output_type": "execute_result"
    }
   ],
   "source": [
    "df.tail()"
   ]
  },
  {
   "cell_type": "code",
   "execution_count": 16,
   "metadata": {
    "scrolled": true
   },
   "outputs": [
    {
     "data": {
      "text/plain": [
       "<matplotlib.axes._subplots.AxesSubplot at 0x29a22a19828>"
      ]
     },
     "execution_count": 16,
     "metadata": {},
     "output_type": "execute_result"
    },
    {
     "data": {
      "image/png": "[encoded data removed]",
      "text/plain": [
       "<Figure size 432x288 with 1 Axes>"
      ]
     },
     "metadata": {
      "needs_background": "light"
     },
     "output_type": "display_data"
    }
   ],
   "source": [
    "df['Btc_price'].plot(kind='line',title='Btc Price')"
   ]
  },
  {
   "cell_type": "code",
   "execution_count": 17,
   "metadata": {
    "scrolled": true
   },
   "outputs": [
    {
     "data": {
      "text/plain": [
       "<matplotlib.axes._subplots.AxesSubplot at 0x29a22a8cc18>"
      ]
     },
     "execution_count": 17,
     "metadata": {},
     "output_type": "execute_result"
    },
    {
     "data": {
      "image/png": "[encoded data removed]",
      "text/plain": [
       "<Figure size 432x288 with 1 Axes>"
      ]
     },
     "metadata": {
      "needs_background": "light"
     },
     "output_type": "display_data"
    }
   ],
   "source": [
    "df['Btc_price'].plot(kind='hist',title='Btc Price')"
   ]
  },
  {
   "cell_type": "markdown",
   "metadata": {},
   "source": [
    "**Calculate the reimbursement**"
   ]
  },
  {
   "cell_type": "code",
   "execution_count": 18,
   "metadata": {},
   "outputs": [],
   "source": [
    "#Locked period is 120 days, the reimbusement starts the day 121\n",
    "reimbursement_s = []\n",
    "\n",
    "for day in range(166):\n",
    "    if day <= 120:\n",
    "        reimbursement  = 0\n",
    "    if day> 120:\n",
    "        reimbursement = cloud_price[day-120]*0.5\n",
    "\n",
    "    reimbursement_s.append(reimbursement)"
   ]
  },
  {
   "cell_type": "code",
   "execution_count": 19,
   "metadata": {},
   "outputs": [],
   "source": [
    "df = pd.DataFrame(index=range(num_reps),data={'Btc_price':btc_price,\n",
    "                                             'Daily_output':daily_output_summary,\n",
    "                                              'Revenue':Revenu,\n",
    "                                             'Cloud_price':cloud_price,\n",
    "                                             'reimbursement':reimbursement_s})"
   ]
  },
  {
   "cell_type": "code",
   "execution_count": 20,
   "metadata": {},
   "outputs": [
    {
     "data": {
      "text/html": [
       "<div>\n",
       "<style scoped>\n",
       "    .dataframe tbody tr th:only-of-type {\n",
       "        vertical-align: middle;\n",
       "    }\n",
       "\n",
       "    .dataframe tbody tr th {\n",
       "        vertical-align: top;\n",
       "    }\n",
       "\n",
       "    .dataframe thead th {\n",
       "        text-align: right;\n",
       "    }\n",
       "</style>\n",
       "<table border=\"1\" class=\"dataframe\">\n",
       "  <thead>\n",
       "    <tr style=\"text-align: right;\">\n",
       "      <th></th>\n",
       "      <th>Btc_price</th>\n",
       "      <th>Daily_output</th>\n",
       "      <th>Revenue</th>\n",
       "      <th>Cloud_price</th>\n",
       "      <th>reimbursement</th>\n",
       "    </tr>\n",
       "  </thead>\n",
       "  <tbody>\n",
       "    <tr>\n",
       "      <th>1</th>\n",
       "      <td>9317.56</td>\n",
       "      <td>0.000019</td>\n",
       "      <td>0.180574</td>\n",
       "      <td>54.172294</td>\n",
       "      <td>0.000000</td>\n",
       "    </tr>\n",
       "    <tr>\n",
       "      <th>121</th>\n",
       "      <td>9314.67</td>\n",
       "      <td>0.000014</td>\n",
       "      <td>0.134300</td>\n",
       "      <td>40.290011</td>\n",
       "      <td>27.086147</td>\n",
       "    </tr>\n",
       "  </tbody>\n",
       "</table>\n",
       "</div>"
      ],
      "text/plain": [
       "     Btc_price  Daily_output   Revenue  Cloud_price  reimbursement\n",
       "1      9317.56      0.000019  0.180574    54.172294       0.000000\n",
       "121    9314.67      0.000014  0.134300    40.290011      27.086147"
      ]
     },
     "execution_count": 20,
     "metadata": {},
     "output_type": "execute_result"
    }
   ],
   "source": [
    "df[1:122:120]"
   ]
  },
  {
   "cell_type": "code",
   "execution_count": 21,
   "metadata": {
    "scrolled": false
   },
   "outputs": [
    {
     "data": {
      "text/plain": [
       "<matplotlib.axes._subplots.AxesSubplot at 0x29a22afd470>"
      ]
     },
     "execution_count": 21,
     "metadata": {},
     "output_type": "execute_result"
    },
    {
     "data": {
      "image/png": "[encoded data removed]",
      "text/plain": [
       "<Figure size 432x288 with 1 Axes>"
      ]
     },
     "metadata": {
      "needs_background": "light"
     },
     "output_type": "display_data"
    }
   ],
   "source": [
    "df['reimbursement'].plot(kind='line',title='Reimbusement')"
   ]
  },
  {
   "cell_type": "code",
   "execution_count": 22,
   "metadata": {},
   "outputs": [
    {
     "data": {
      "text/plain": [
       "<matplotlib.axes._subplots.AxesSubplot at 0x29a22b75438>"
      ]
     },
     "execution_count": 22,
     "metadata": {},
     "output_type": "execute_result"
    },
    {
     "data": {
      "image/png": "[encoded data removed]",
      "text/plain": [
       "<Figure size 432x288 with 1 Axes>"
      ]
     },
     "metadata": {
      "needs_background": "light"
     },
     "output_type": "display_data"
    }
   ],
   "source": [
    "sns.distplot(df['reimbursement'],bins=15)"
   ]
  },
  {
   "cell_type": "code",
   "execution_count": 23,
   "metadata": {},
   "outputs": [
    {
     "data": {
      "text/plain": [
       "<matplotlib.axes._subplots.AxesSubplot at 0x29a22bee080>"
      ]
     },
     "execution_count": 23,
     "metadata": {},
     "output_type": "execute_result"
    },
    {
     "data": {
      "image/png": "[encoded data removed]",
      "text/plain": [
       "<Figure size 432x288 with 1 Axes>"
      ]
     },
     "metadata": {
      "needs_background": "light"
     },
     "output_type": "display_data"
    }
   ],
   "source": [
    "sns.distplot(df['Cloud_price'],bins=15)"
   ]
  },
  {
   "cell_type": "code",
   "execution_count": 24,
   "metadata": {},
   "outputs": [
    {
     "data": {
      "text/plain": [
       "<matplotlib.axes._subplots.AxesSubplot at 0x29a22b6ae10>"
      ]
     },
     "execution_count": 24,
     "metadata": {},
     "output_type": "execute_result"
    },
    {
     "data": {
      "image/png": "[encoded data removed]",
      "text/plain": [
       "<Figure size 432x288 with 1 Axes>"
      ]
     },
     "metadata": {
      "needs_background": "light"
     },
     "output_type": "display_data"
    }
   ],
   "source": [
    "df['Cloud_price'].plot(kind='hist',bins=8,title='Cloud mining price')"
   ]
  },
  {
   "cell_type": "code",
   "execution_count": 25,
   "metadata": {},
   "outputs": [
    {
     "data": {
      "text/plain": [
       "<matplotlib.axes._subplots.AxesSubplot at 0x29a22bcdd30>"
      ]
     },
     "execution_count": 25,
     "metadata": {},
     "output_type": "execute_result"
    },
    {
     "data": {
      "image/png": "[encoded data removed]",
      "text/plain": [
       "<Figure size 432x288 with 1 Axes>"
      ]
     },
     "metadata": {
      "needs_background": "light"
     },
     "output_type": "display_data"
    }
   ],
   "source": [
    "df['reimbursement'].plot(kind='hist',bins=8,title='Reimbusement')"
   ]
  },
  {
   "cell_type": "code",
   "execution_count": 26,
   "metadata": {},
   "outputs": [
    {
     "data": {
      "text/plain": [
       "<matplotlib.axes._subplots.AxesSubplot at 0x29a22d0c860>"
      ]
     },
     "execution_count": 26,
     "metadata": {},
     "output_type": "execute_result"
    },
    {
     "data": {
      "image/png": "[encoded data removed]",
      "text/plain": [
       "<Figure size 432x288 with 1 Axes>"
      ]
     },
     "metadata": {
      "needs_background": "light"
     },
     "output_type": "display_data"
    }
   ],
   "source": [
    "df['Cloud_price'].plot(kind='line',title='Cloud Mining Price')"
   ]
  },
  {
   "cell_type": "code",
   "execution_count": 27,
   "metadata": {
    "scrolled": true
   },
   "outputs": [
    {
     "data": {
      "text/html": [
       "<style  type=\"text/css\" >\n",
       "</style><table id=\"T_6b7e2ad4_159a_11ea_8952_3c6aa71dd48a\" ><thead>    <tr>        <th class=\"blank level0\" ></th>        <th class=\"col_heading level0 col0\" >Btc_price</th>        <th class=\"col_heading level0 col1\" >Daily_output</th>        <th class=\"col_heading level0 col2\" >Revenue</th>        <th class=\"col_heading level0 col3\" >Cloud_price</th>        <th class=\"col_heading level0 col4\" >reimbursement</th>    </tr></thead><tbody>\n",
       "                <tr>\n",
       "                        <th id=\"T_6b7e2ad4_159a_11ea_8952_3c6aa71dd48alevel0_row0\" class=\"row_heading level0 row0\" >count</th>\n",
       "                        <td id=\"T_6b7e2ad4_159a_11ea_8952_3c6aa71dd48arow0_col0\" class=\"data row0 col0\" >166.0</td>\n",
       "                        <td id=\"T_6b7e2ad4_159a_11ea_8952_3c6aa71dd48arow0_col1\" class=\"data row0 col1\" >166.0</td>\n",
       "                        <td id=\"T_6b7e2ad4_159a_11ea_8952_3c6aa71dd48arow0_col2\" class=\"data row0 col2\" >166.0</td>\n",
       "                        <td id=\"T_6b7e2ad4_159a_11ea_8952_3c6aa71dd48arow0_col3\" class=\"data row0 col3\" >166.0</td>\n",
       "                        <td id=\"T_6b7e2ad4_159a_11ea_8952_3c6aa71dd48arow0_col4\" class=\"data row0 col4\" >166.0</td>\n",
       "            </tr>\n",
       "            <tr>\n",
       "                        <th id=\"T_6b7e2ad4_159a_11ea_8952_3c6aa71dd48alevel0_row1\" class=\"row_heading level0 row1\" >mean</th>\n",
       "                        <td id=\"T_6b7e2ad4_159a_11ea_8952_3c6aa71dd48arow1_col0\" class=\"data row1 col0\" >9,355.528012048186</td>\n",
       "                        <td id=\"T_6b7e2ad4_159a_11ea_8952_3c6aa71dd48arow1_col1\" class=\"data row1 col1\" >1.6326488625882956e-05</td>\n",
       "                        <td id=\"T_6b7e2ad4_159a_11ea_8952_3c6aa71dd48arow1_col2\" class=\"data row1 col2\" >0.15281382419427644</td>\n",
       "                        <td id=\"T_6b7e2ad4_159a_11ea_8952_3c6aa71dd48arow1_col3\" class=\"data row1 col3\" >45.84414725828293</td>\n",
       "                        <td id=\"T_6b7e2ad4_159a_11ea_8952_3c6aa71dd48arow1_col4\" class=\"data row1 col4\" >7.363236598733902</td>\n",
       "            </tr>\n",
       "            <tr>\n",
       "                        <th id=\"T_6b7e2ad4_159a_11ea_8952_3c6aa71dd48alevel0_row2\" class=\"row_heading level0 row2\" >std</th>\n",
       "                        <td id=\"T_6b7e2ad4_159a_11ea_8952_3c6aa71dd48arow2_col0\" class=\"data row2 col0\" >332.3743166174746</td>\n",
       "                        <td id=\"T_6b7e2ad4_159a_11ea_8952_3c6aa71dd48arow2_col1\" class=\"data row2 col1\" >2.2449373614864648e-06</td>\n",
       "                        <td id=\"T_6b7e2ad4_159a_11ea_8952_3c6aa71dd48arow2_col2\" class=\"data row2 col2\" >0.022267372543099906</td>\n",
       "                        <td id=\"T_6b7e2ad4_159a_11ea_8952_3c6aa71dd48arow2_col3\" class=\"data row2 col3\" >6.680211762929969</td>\n",
       "                        <td id=\"T_6b7e2ad4_159a_11ea_8952_3c6aa71dd48arow2_col4\" class=\"data row2 col4\" >12.130192978947967</td>\n",
       "            </tr>\n",
       "            <tr>\n",
       "                        <th id=\"T_6b7e2ad4_159a_11ea_8952_3c6aa71dd48alevel0_row3\" class=\"row_heading level0 row3\" >min</th>\n",
       "                        <td id=\"T_6b7e2ad4_159a_11ea_8952_3c6aa71dd48arow3_col0\" class=\"data row3 col0\" >8,666.01</td>\n",
       "                        <td id=\"T_6b7e2ad4_159a_11ea_8952_3c6aa71dd48arow3_col1\" class=\"data row3 col1\" >1.2756230374571436e-05</td>\n",
       "                        <td id=\"T_6b7e2ad4_159a_11ea_8952_3c6aa71dd48arow3_col2\" class=\"data row3 col2\" >0.11283804214895403</td>\n",
       "                        <td id=\"T_6b7e2ad4_159a_11ea_8952_3c6aa71dd48arow3_col3\" class=\"data row3 col3\" >33.85141264468621</td>\n",
       "                        <td id=\"T_6b7e2ad4_159a_11ea_8952_3c6aa71dd48arow3_col4\" class=\"data row3 col4\" >0.0</td>\n",
       "            </tr>\n",
       "            <tr>\n",
       "                        <th id=\"T_6b7e2ad4_159a_11ea_8952_3c6aa71dd48alevel0_row4\" class=\"row_heading level0 row4\" >10%</th>\n",
       "                        <td id=\"T_6b7e2ad4_159a_11ea_8952_3c6aa71dd48arow4_col0\" class=\"data row4 col0\" >8,950.015</td>\n",
       "                        <td id=\"T_6b7e2ad4_159a_11ea_8952_3c6aa71dd48arow4_col1\" class=\"data row4 col1\" >1.3287739973511912e-05</td>\n",
       "                        <td id=\"T_6b7e2ad4_159a_11ea_8952_3c6aa71dd48arow4_col2\" class=\"data row4 col2\" >0.12534133552095836</td>\n",
       "                        <td id=\"T_6b7e2ad4_159a_11ea_8952_3c6aa71dd48arow4_col3\" class=\"data row4 col3\" >37.60240065628751</td>\n",
       "                        <td id=\"T_6b7e2ad4_159a_11ea_8952_3c6aa71dd48arow4_col4\" class=\"data row4 col4\" >0.0</td>\n",
       "            </tr>\n",
       "            <tr>\n",
       "                        <th id=\"T_6b7e2ad4_159a_11ea_8952_3c6aa71dd48alevel0_row5\" class=\"row_heading level0 row5\" >25%</th>\n",
       "                        <td id=\"T_6b7e2ad4_159a_11ea_8952_3c6aa71dd48arow5_col0\" class=\"data row5 col0\" >9,095.18</td>\n",
       "                        <td id=\"T_6b7e2ad4_159a_11ea_8952_3c6aa71dd48arow5_col1\" class=\"data row5 col1\" >1.4418120630980809e-05</td>\n",
       "                        <td id=\"T_6b7e2ad4_159a_11ea_8952_3c6aa71dd48arow5_col2\" class=\"data row5 col2\" >0.13346776554428735</td>\n",
       "                        <td id=\"T_6b7e2ad4_159a_11ea_8952_3c6aa71dd48arow5_col3\" class=\"data row5 col3\" >40.0403296632862</td>\n",
       "                        <td id=\"T_6b7e2ad4_159a_11ea_8952_3c6aa71dd48arow5_col4\" class=\"data row5 col4\" >0.0</td>\n",
       "            </tr>\n",
       "            <tr>\n",
       "                        <th id=\"T_6b7e2ad4_159a_11ea_8952_3c6aa71dd48alevel0_row6\" class=\"row_heading level0 row6\" >50%</th>\n",
       "                        <td id=\"T_6b7e2ad4_159a_11ea_8952_3c6aa71dd48arow6_col0\" class=\"data row6 col0\" >9,332.310000000001</td>\n",
       "                        <td id=\"T_6b7e2ad4_159a_11ea_8952_3c6aa71dd48arow6_col1\" class=\"data row6 col1\" >1.629652306561597e-05</td>\n",
       "                        <td id=\"T_6b7e2ad4_159a_11ea_8952_3c6aa71dd48arow6_col2\" class=\"data row6 col2\" >0.15011741952078844</td>\n",
       "                        <td id=\"T_6b7e2ad4_159a_11ea_8952_3c6aa71dd48arow6_col3\" class=\"data row6 col3\" >45.03522585623653</td>\n",
       "                        <td id=\"T_6b7e2ad4_159a_11ea_8952_3c6aa71dd48arow6_col4\" class=\"data row6 col4\" >0.0</td>\n",
       "            </tr>\n",
       "            <tr>\n",
       "                        <th id=\"T_6b7e2ad4_159a_11ea_8952_3c6aa71dd48alevel0_row7\" class=\"row_heading level0 row7\" >75%</th>\n",
       "                        <td id=\"T_6b7e2ad4_159a_11ea_8952_3c6aa71dd48arow7_col0\" class=\"data row7 col0\" >9,587.517500000002</td>\n",
       "                        <td id=\"T_6b7e2ad4_159a_11ea_8952_3c6aa71dd48arow7_col1\" class=\"data row7 col1\" >1.84196450304e-05</td>\n",
       "                        <td id=\"T_6b7e2ad4_159a_11ea_8952_3c6aa71dd48arow7_col2\" class=\"data row7 col2\" >0.17173330595313124</td>\n",
       "                        <td id=\"T_6b7e2ad4_159a_11ea_8952_3c6aa71dd48arow7_col3\" class=\"data row7 col3\" >51.51999178593937</td>\n",
       "                        <td id=\"T_6b7e2ad4_159a_11ea_8952_3c6aa71dd48arow7_col4\" class=\"data row7 col4\" >25.169602235281463</td>\n",
       "            </tr>\n",
       "            <tr>\n",
       "                        <th id=\"T_6b7e2ad4_159a_11ea_8952_3c6aa71dd48alevel0_row8\" class=\"row_heading level0 row8\" >80%</th>\n",
       "                        <td id=\"T_6b7e2ad4_159a_11ea_8952_3c6aa71dd48arow8_col0\" class=\"data row8 col0\" >9,636.89</td>\n",
       "                        <td id=\"T_6b7e2ad4_159a_11ea_8952_3c6aa71dd48arow8_col1\" class=\"data row8 col1\" >1.84196450304e-05</td>\n",
       "                        <td id=\"T_6b7e2ad4_159a_11ea_8952_3c6aa71dd48arow8_col2\" class=\"data row8 col2\" >0.17655266600928463</td>\n",
       "                        <td id=\"T_6b7e2ad4_159a_11ea_8952_3c6aa71dd48arow8_col3\" class=\"data row8 col3\" >52.96579980278539</td>\n",
       "                        <td id=\"T_6b7e2ad4_159a_11ea_8952_3c6aa71dd48arow8_col4\" class=\"data row8 col4\" >26.447329264383367</td>\n",
       "            </tr>\n",
       "            <tr>\n",
       "                        <th id=\"T_6b7e2ad4_159a_11ea_8952_3c6aa71dd48alevel0_row9\" class=\"row_heading level0 row9\" >95%</th>\n",
       "                        <td id=\"T_6b7e2ad4_159a_11ea_8952_3c6aa71dd48arow9_col0\" class=\"data row9 col0\" >9,915.175</td>\n",
       "                        <td id=\"T_6b7e2ad4_159a_11ea_8952_3c6aa71dd48arow9_col1\" class=\"data row9 col1\" >1.9986594000000003e-05</td>\n",
       "                        <td id=\"T_6b7e2ad4_159a_11ea_8952_3c6aa71dd48arow9_col2\" class=\"data row9 col2\" >0.19055353629109506</td>\n",
       "                        <td id=\"T_6b7e2ad4_159a_11ea_8952_3c6aa71dd48arow9_col3\" class=\"data row9 col3\" >57.16606088732851</td>\n",
       "                        <td id=\"T_6b7e2ad4_159a_11ea_8952_3c6aa71dd48arow9_col4\" class=\"data row9 col4\" >28.583030443664256</td>\n",
       "            </tr>\n",
       "            <tr>\n",
       "                        <th id=\"T_6b7e2ad4_159a_11ea_8952_3c6aa71dd48alevel0_row10\" class=\"row_heading level0 row10\" >99%</th>\n",
       "                        <td id=\"T_6b7e2ad4_159a_11ea_8952_3c6aa71dd48arow10_col0\" class=\"data row10 col0\" >10,100.7035</td>\n",
       "                        <td id=\"T_6b7e2ad4_159a_11ea_8952_3c6aa71dd48arow10_col1\" class=\"data row10 col1\" >1.9986594000000003e-05</td>\n",
       "                        <td id=\"T_6b7e2ad4_159a_11ea_8952_3c6aa71dd48arow10_col2\" class=\"data row10 col2\" >0.19365511510833328</td>\n",
       "                        <td id=\"T_6b7e2ad4_159a_11ea_8952_3c6aa71dd48arow10_col3\" class=\"data row10 col3\" >58.09653453249997</td>\n",
       "                        <td id=\"T_6b7e2ad4_159a_11ea_8952_3c6aa71dd48arow10_col4\" class=\"data row10 col4\" >29.048267266249987</td>\n",
       "            </tr>\n",
       "            <tr>\n",
       "                        <th id=\"T_6b7e2ad4_159a_11ea_8952_3c6aa71dd48alevel0_row11\" class=\"row_heading level0 row11\" >max</th>\n",
       "                        <td id=\"T_6b7e2ad4_159a_11ea_8952_3c6aa71dd48arow11_col0\" class=\"data row11 col0\" >10,213.26</td>\n",
       "                        <td id=\"T_6b7e2ad4_159a_11ea_8952_3c6aa71dd48arow11_col1\" class=\"data row11 col1\" >1.9986594000000003e-05</td>\n",
       "                        <td id=\"T_6b7e2ad4_159a_11ea_8952_3c6aa71dd48arow11_col2\" class=\"data row11 col2\" >0.20053788929028005</td>\n",
       "                        <td id=\"T_6b7e2ad4_159a_11ea_8952_3c6aa71dd48arow11_col3\" class=\"data row11 col3\" >60.16136678708401</td>\n",
       "                        <td id=\"T_6b7e2ad4_159a_11ea_8952_3c6aa71dd48arow11_col4\" class=\"data row11 col4\" >30.080683393542007</td>\n",
       "            </tr>\n",
       "    </tbody></table>"
      ],
      "text/plain": [
       "<pandas.io.formats.style.Styler at 0x29a22cc8828>"
      ]
     },
     "execution_count": 27,
     "metadata": {},
     "output_type": "execute_result"
    }
   ],
   "source": [
    "#percentile list\n",
    "perc = [.10,.25,.50,.75,.80,.95,.99]\n",
    "include = ['object','float','int']\n",
    "df.describe(percentiles=perc,include=include).style.format('{:,}')"
   ]
  },
  {
   "cell_type": "markdown",
   "metadata": {},
   "source": [
    "**Creat a Loop, Repete 1000 times**"
   ]
  },
  {
   "cell_type": "code",
   "execution_count": 28,
   "metadata": {},
   "outputs": [],
   "source": [
    "#define a list to keep all the results from each simulation that we want to analyze\n",
    "all_stats = []\n",
    "\n",
    "#Loop through many simulations\n",
    "for i in range(num_simulations):\n",
    "    \n",
    "    #Choose random inputs for the sales targets and percent to target\n",
    "    btc_price=np.random.normal(avg,std_dtv,num_reps).round(2)\n",
    "    \n",
    "    #Build the dataframe based on the inputs and number of reps\n",
    "    df = pd.DataFrame(data={'Btc_price':btc_price})\n",
    "    \n",
    "    #Back into the daily output using the formule\n",
    "    daily_output_summary = []\n",
    "    daily_output=0.00001938\n",
    "    for day in range(166):\n",
    "        if day == 4:\n",
    "            daily_output  = daily_output * 1.0313\n",
    "        if (day - 4) % 14 == 0 and day - 4 != 0:\n",
    "            daily_output = daily_output * 0.96\n",
    "        \n",
    "        daily_output_summary.append(daily_output)\n",
    "    \n",
    "    df['Daily_output']=daily_output_summary\n",
    "    \n",
    "    #Determine the Revenu and Cloud_price and calculate it\n",
    "    df['Revenu']=df['Btc_price']*df['Daily_output']\n",
    "    df['Cloud_price']=df['Revenu']*300\n",
    "    \n",
    "    #Determine the Reimbusement and calculate it\n",
    "    reimbursement_s = []\n",
    "\n",
    "    for day in range(166):\n",
    "        if day <= 120:\n",
    "            reimbursement  = 0\n",
    "        if day> 120:\n",
    "            reimbursement = cloud_price[day-120]*0.6\n",
    "\n",
    "        reimbursement_s.append(reimbursement)\n",
    "    df['Reimbursement']=reimbursement_s\n",
    "    \n",
    "    #We want to track btc price, daily output, cloud mining price and reimbursement over all the simulations\n",
    "    all_stats.append([df['Btc_price'].max().round(2),\n",
    "                     df['Daily_output'].max().round(8),\n",
    "                     df['Cloud_price'].min().round(2),\n",
    "                     df['Revenu'].max().round(8),\n",
    "                     df['Reimbursement'].max().round(8)])"
   ]
  },
  {
   "cell_type": "code",
   "execution_count": 29,
   "metadata": {},
   "outputs": [],
   "source": [
    "result_df = pd.DataFrame.from_records(all_stats,columns=['Btc_price',\n",
    "                                                        'Daily_output',\n",
    "                                                        'Cloud_price',\n",
    "                                                         'Revenu',\n",
    "                                                        'Reimbursement'])"
   ]
  },
  {
   "cell_type": "code",
   "execution_count": 30,
   "metadata": {
    "scrolled": false
   },
   "outputs": [
    {
     "data": {
      "text/html": [
       "<div>\n",
       "<style scoped>\n",
       "    .dataframe tbody tr th:only-of-type {\n",
       "        vertical-align: middle;\n",
       "    }\n",
       "\n",
       "    .dataframe tbody tr th {\n",
       "        vertical-align: top;\n",
       "    }\n",
       "\n",
       "    .dataframe thead th {\n",
       "        text-align: right;\n",
       "    }\n",
       "</style>\n",
       "<table border=\"1\" class=\"dataframe\">\n",
       "  <thead>\n",
       "    <tr style=\"text-align: right;\">\n",
       "      <th></th>\n",
       "      <th>Btc_price</th>\n",
       "      <th>Daily_output</th>\n",
       "      <th>Cloud_price</th>\n",
       "      <th>Revenu</th>\n",
       "      <th>Reimbursement</th>\n",
       "    </tr>\n",
       "  </thead>\n",
       "  <tbody>\n",
       "    <tr>\n",
       "      <th>0</th>\n",
       "      <td>10403.89</td>\n",
       "      <td>0.00002</td>\n",
       "      <td>34.62</td>\n",
       "      <td>0.199621</td>\n",
       "      <td>36.09682</td>\n",
       "    </tr>\n",
       "    <tr>\n",
       "      <th>1</th>\n",
       "      <td>10338.82</td>\n",
       "      <td>0.00002</td>\n",
       "      <td>34.21</td>\n",
       "      <td>0.197360</td>\n",
       "      <td>36.09682</td>\n",
       "    </tr>\n",
       "    <tr>\n",
       "      <th>2</th>\n",
       "      <td>10258.26</td>\n",
       "      <td>0.00002</td>\n",
       "      <td>33.20</td>\n",
       "      <td>0.194654</td>\n",
       "      <td>36.09682</td>\n",
       "    </tr>\n",
       "    <tr>\n",
       "      <th>3</th>\n",
       "      <td>10139.93</td>\n",
       "      <td>0.00002</td>\n",
       "      <td>34.36</td>\n",
       "      <td>0.200167</td>\n",
       "      <td>36.09682</td>\n",
       "    </tr>\n",
       "    <tr>\n",
       "      <th>4</th>\n",
       "      <td>10121.58</td>\n",
       "      <td>0.00002</td>\n",
       "      <td>33.47</td>\n",
       "      <td>0.202296</td>\n",
       "      <td>36.09682</td>\n",
       "    </tr>\n",
       "  </tbody>\n",
       "</table>\n",
       "</div>"
      ],
      "text/plain": [
       "   Btc_price  Daily_output  Cloud_price    Revenu  Reimbursement\n",
       "0   10403.89       0.00002        34.62  0.199621       36.09682\n",
       "1   10338.82       0.00002        34.21  0.197360       36.09682\n",
       "2   10258.26       0.00002        33.20  0.194654       36.09682\n",
       "3   10139.93       0.00002        34.36  0.200167       36.09682\n",
       "4   10121.58       0.00002        33.47  0.202296       36.09682"
      ]
     },
     "execution_count": 30,
     "metadata": {},
     "output_type": "execute_result"
    }
   ],
   "source": [
    "result_df.head()"
   ]
  },
  {
   "cell_type": "code",
   "execution_count": 31,
   "metadata": {},
   "outputs": [
    {
     "data": {
      "text/html": [
       "<div>\n",
       "<style scoped>\n",
       "    .dataframe tbody tr th:only-of-type {\n",
       "        vertical-align: middle;\n",
       "    }\n",
       "\n",
       "    .dataframe tbody tr th {\n",
       "        vertical-align: top;\n",
       "    }\n",
       "\n",
       "    .dataframe thead th {\n",
       "        text-align: right;\n",
       "    }\n",
       "</style>\n",
       "<table border=\"1\" class=\"dataframe\">\n",
       "  <thead>\n",
       "    <tr style=\"text-align: right;\">\n",
       "      <th></th>\n",
       "      <th>Btc_price</th>\n",
       "      <th>Daily_output</th>\n",
       "      <th>Cloud_price</th>\n",
       "      <th>Revenu</th>\n",
       "      <th>Reimbursement</th>\n",
       "    </tr>\n",
       "  </thead>\n",
       "  <tbody>\n",
       "    <tr>\n",
       "      <th>995</th>\n",
       "      <td>10076.80</td>\n",
       "      <td>0.00002</td>\n",
       "      <td>34.82</td>\n",
       "      <td>0.197805</td>\n",
       "      <td>36.09682</td>\n",
       "    </tr>\n",
       "    <tr>\n",
       "      <th>996</th>\n",
       "      <td>10116.82</td>\n",
       "      <td>0.00002</td>\n",
       "      <td>34.07</td>\n",
       "      <td>0.198514</td>\n",
       "      <td>36.09682</td>\n",
       "    </tr>\n",
       "    <tr>\n",
       "      <th>997</th>\n",
       "      <td>10183.08</td>\n",
       "      <td>0.00002</td>\n",
       "      <td>34.74</td>\n",
       "      <td>0.191907</td>\n",
       "      <td>36.09682</td>\n",
       "    </tr>\n",
       "    <tr>\n",
       "      <th>998</th>\n",
       "      <td>10069.22</td>\n",
       "      <td>0.00002</td>\n",
       "      <td>34.06</td>\n",
       "      <td>0.199036</td>\n",
       "      <td>36.09682</td>\n",
       "    </tr>\n",
       "    <tr>\n",
       "      <th>999</th>\n",
       "      <td>10123.78</td>\n",
       "      <td>0.00002</td>\n",
       "      <td>33.81</td>\n",
       "      <td>0.201059</td>\n",
       "      <td>36.09682</td>\n",
       "    </tr>\n",
       "  </tbody>\n",
       "</table>\n",
       "</div>"
      ],
      "text/plain": [
       "     Btc_price  Daily_output  Cloud_price    Revenu  Reimbursement\n",
       "995   10076.80       0.00002        34.82  0.197805       36.09682\n",
       "996   10116.82       0.00002        34.07  0.198514       36.09682\n",
       "997   10183.08       0.00002        34.74  0.191907       36.09682\n",
       "998   10069.22       0.00002        34.06  0.199036       36.09682\n",
       "999   10123.78       0.00002        33.81  0.201059       36.09682"
      ]
     },
     "execution_count": 31,
     "metadata": {},
     "output_type": "execute_result"
    }
   ],
   "source": [
    "result_df.tail()"
   ]
  },
  {
   "cell_type": "code",
   "execution_count": 32,
   "metadata": {},
   "outputs": [],
   "source": [
    "#result_df['Reimbursement']"
   ]
  },
  {
   "cell_type": "code",
   "execution_count": 33,
   "metadata": {},
   "outputs": [],
   "source": [
    "#result_df.tail()"
   ]
  },
  {
   "cell_type": "code",
   "execution_count": 34,
   "metadata": {
    "scrolled": true
   },
   "outputs": [
    {
     "data": {
      "text/html": [
       "<div>\n",
       "<style scoped>\n",
       "    .dataframe tbody tr th:only-of-type {\n",
       "        vertical-align: middle;\n",
       "    }\n",
       "\n",
       "    .dataframe tbody tr th {\n",
       "        vertical-align: top;\n",
       "    }\n",
       "\n",
       "    .dataframe thead th {\n",
       "        text-align: right;\n",
       "    }\n",
       "</style>\n",
       "<table border=\"1\" class=\"dataframe\">\n",
       "  <thead>\n",
       "    <tr style=\"text-align: right;\">\n",
       "      <th></th>\n",
       "      <th>Btc_price</th>\n",
       "      <th>Daily_output</th>\n",
       "      <th>Cloud_price</th>\n",
       "      <th>Revenu</th>\n",
       "      <th>Reimbursement</th>\n",
       "    </tr>\n",
       "  </thead>\n",
       "  <tbody>\n",
       "    <tr>\n",
       "      <th>count</th>\n",
       "      <td>1000.000000</td>\n",
       "      <td>1.000000e+03</td>\n",
       "      <td>1000.000000</td>\n",
       "      <td>1000.000000</td>\n",
       "      <td>1.000000e+03</td>\n",
       "    </tr>\n",
       "    <tr>\n",
       "      <th>mean</th>\n",
       "      <td>10177.437160</td>\n",
       "      <td>1.999000e-05</td>\n",
       "      <td>33.967700</td>\n",
       "      <td>0.197502</td>\n",
       "      <td>3.609682e+01</td>\n",
       "    </tr>\n",
       "    <tr>\n",
       "      <th>std</th>\n",
       "      <td>131.574819</td>\n",
       "      <td>5.423723e-20</td>\n",
       "      <td>0.669491</td>\n",
       "      <td>0.003474</td>\n",
       "      <td>6.255905e-13</td>\n",
       "    </tr>\n",
       "    <tr>\n",
       "      <th>min</th>\n",
       "      <td>9846.330000</td>\n",
       "      <td>1.999000e-05</td>\n",
       "      <td>31.130000</td>\n",
       "      <td>0.188445</td>\n",
       "      <td>3.609682e+01</td>\n",
       "    </tr>\n",
       "    <tr>\n",
       "      <th>10%</th>\n",
       "      <td>10024.379000</td>\n",
       "      <td>1.999000e-05</td>\n",
       "      <td>33.109000</td>\n",
       "      <td>0.193360</td>\n",
       "      <td>3.609682e+01</td>\n",
       "    </tr>\n",
       "    <tr>\n",
       "      <th>25%</th>\n",
       "      <td>10087.545000</td>\n",
       "      <td>1.999000e-05</td>\n",
       "      <td>33.550000</td>\n",
       "      <td>0.195117</td>\n",
       "      <td>3.609682e+01</td>\n",
       "    </tr>\n",
       "    <tr>\n",
       "      <th>50%</th>\n",
       "      <td>10157.120000</td>\n",
       "      <td>1.999000e-05</td>\n",
       "      <td>34.000000</td>\n",
       "      <td>0.197136</td>\n",
       "      <td>3.609682e+01</td>\n",
       "    </tr>\n",
       "    <tr>\n",
       "      <th>75%</th>\n",
       "      <td>10258.597500</td>\n",
       "      <td>1.999000e-05</td>\n",
       "      <td>34.430000</td>\n",
       "      <td>0.199605</td>\n",
       "      <td>3.609682e+01</td>\n",
       "    </tr>\n",
       "    <tr>\n",
       "      <th>80%</th>\n",
       "      <td>10281.676000</td>\n",
       "      <td>1.999000e-05</td>\n",
       "      <td>34.540000</td>\n",
       "      <td>0.200261</td>\n",
       "      <td>3.609682e+01</td>\n",
       "    </tr>\n",
       "    <tr>\n",
       "      <th>95%</th>\n",
       "      <td>10404.894500</td>\n",
       "      <td>1.999000e-05</td>\n",
       "      <td>34.960500</td>\n",
       "      <td>0.203572</td>\n",
       "      <td>3.609682e+01</td>\n",
       "    </tr>\n",
       "    <tr>\n",
       "      <th>99%</th>\n",
       "      <td>10585.221300</td>\n",
       "      <td>1.999000e-05</td>\n",
       "      <td>35.370100</td>\n",
       "      <td>0.207140</td>\n",
       "      <td>3.609682e+01</td>\n",
       "    </tr>\n",
       "    <tr>\n",
       "      <th>max</th>\n",
       "      <td>10742.680000</td>\n",
       "      <td>1.999000e-05</td>\n",
       "      <td>35.770000</td>\n",
       "      <td>0.212026</td>\n",
       "      <td>3.609682e+01</td>\n",
       "    </tr>\n",
       "  </tbody>\n",
       "</table>\n",
       "</div>"
      ],
      "text/plain": [
       "          Btc_price  Daily_output  Cloud_price       Revenu  Reimbursement\n",
       "count   1000.000000  1.000000e+03  1000.000000  1000.000000   1.000000e+03\n",
       "mean   10177.437160  1.999000e-05    33.967700     0.197502   3.609682e+01\n",
       "std      131.574819  5.423723e-20     0.669491     0.003474   6.255905e-13\n",
       "min     9846.330000  1.999000e-05    31.130000     0.188445   3.609682e+01\n",
       "10%    10024.379000  1.999000e-05    33.109000     0.193360   3.609682e+01\n",
       "25%    10087.545000  1.999000e-05    33.550000     0.195117   3.609682e+01\n",
       "50%    10157.120000  1.999000e-05    34.000000     0.197136   3.609682e+01\n",
       "75%    10258.597500  1.999000e-05    34.430000     0.199605   3.609682e+01\n",
       "80%    10281.676000  1.999000e-05    34.540000     0.200261   3.609682e+01\n",
       "95%    10404.894500  1.999000e-05    34.960500     0.203572   3.609682e+01\n",
       "99%    10585.221300  1.999000e-05    35.370100     0.207140   3.609682e+01\n",
       "max    10742.680000  1.999000e-05    35.770000     0.212026   3.609682e+01"
      ]
     },
     "execution_count": 34,
     "metadata": {},
     "output_type": "execute_result"
    }
   ],
   "source": [
    "result_df.describe(percentiles=perc,include=include)"
   ]
  },
  {
   "cell_type": "code",
   "execution_count": 35,
   "metadata": {},
   "outputs": [],
   "source": [
    "#result_df['Cloud_price'].plot(kind='Hist',title='Cloud Price')"
   ]
  },
  {
   "cell_type": "code",
   "execution_count": 36,
   "metadata": {},
   "outputs": [
    {
     "data": {
      "text/html": [
       "<div>\n",
       "<style scoped>\n",
       "    .dataframe tbody tr th:only-of-type {\n",
       "        vertical-align: middle;\n",
       "    }\n",
       "\n",
       "    .dataframe tbody tr th {\n",
       "        vertical-align: top;\n",
       "    }\n",
       "\n",
       "    .dataframe thead th {\n",
       "        text-align: right;\n",
       "    }\n",
       "</style>\n",
       "<table border=\"1\" class=\"dataframe\">\n",
       "  <thead>\n",
       "    <tr style=\"text-align: right;\">\n",
       "      <th></th>\n",
       "      <th>Btc_price</th>\n",
       "      <th>Daily_output</th>\n",
       "      <th>Cloud_price</th>\n",
       "      <th>Revenu</th>\n",
       "      <th>Reimbursement</th>\n",
       "    </tr>\n",
       "  </thead>\n",
       "  <tbody>\n",
       "    <tr>\n",
       "      <th>0</th>\n",
       "      <td>10403.89</td>\n",
       "      <td>0.00002</td>\n",
       "      <td>34.62</td>\n",
       "      <td>0.199621</td>\n",
       "      <td>36.09682</td>\n",
       "    </tr>\n",
       "    <tr>\n",
       "      <th>1</th>\n",
       "      <td>10338.82</td>\n",
       "      <td>0.00002</td>\n",
       "      <td>34.21</td>\n",
       "      <td>0.197360</td>\n",
       "      <td>36.09682</td>\n",
       "    </tr>\n",
       "    <tr>\n",
       "      <th>2</th>\n",
       "      <td>10258.26</td>\n",
       "      <td>0.00002</td>\n",
       "      <td>33.20</td>\n",
       "      <td>0.194654</td>\n",
       "      <td>36.09682</td>\n",
       "    </tr>\n",
       "    <tr>\n",
       "      <th>3</th>\n",
       "      <td>10139.93</td>\n",
       "      <td>0.00002</td>\n",
       "      <td>34.36</td>\n",
       "      <td>0.200167</td>\n",
       "      <td>36.09682</td>\n",
       "    </tr>\n",
       "    <tr>\n",
       "      <th>4</th>\n",
       "      <td>10121.58</td>\n",
       "      <td>0.00002</td>\n",
       "      <td>33.47</td>\n",
       "      <td>0.202296</td>\n",
       "      <td>36.09682</td>\n",
       "    </tr>\n",
       "    <tr>\n",
       "      <th>5</th>\n",
       "      <td>10341.90</td>\n",
       "      <td>0.00002</td>\n",
       "      <td>34.58</td>\n",
       "      <td>0.196386</td>\n",
       "      <td>36.09682</td>\n",
       "    </tr>\n",
       "    <tr>\n",
       "      <th>6</th>\n",
       "      <td>10091.22</td>\n",
       "      <td>0.00002</td>\n",
       "      <td>34.16</td>\n",
       "      <td>0.194781</td>\n",
       "      <td>36.09682</td>\n",
       "    </tr>\n",
       "    <tr>\n",
       "      <th>7</th>\n",
       "      <td>10099.93</td>\n",
       "      <td>0.00002</td>\n",
       "      <td>32.40</td>\n",
       "      <td>0.193114</td>\n",
       "      <td>36.09682</td>\n",
       "    </tr>\n",
       "    <tr>\n",
       "      <th>8</th>\n",
       "      <td>10383.47</td>\n",
       "      <td>0.00002</td>\n",
       "      <td>34.27</td>\n",
       "      <td>0.194894</td>\n",
       "      <td>36.09682</td>\n",
       "    </tr>\n",
       "    <tr>\n",
       "      <th>9</th>\n",
       "      <td>10217.63</td>\n",
       "      <td>0.00002</td>\n",
       "      <td>33.86</td>\n",
       "      <td>0.199915</td>\n",
       "      <td>36.09682</td>\n",
       "    </tr>\n",
       "    <tr>\n",
       "      <th>10</th>\n",
       "      <td>10222.67</td>\n",
       "      <td>0.00002</td>\n",
       "      <td>33.71</td>\n",
       "      <td>0.202801</td>\n",
       "      <td>36.09682</td>\n",
       "    </tr>\n",
       "    <tr>\n",
       "      <th>11</th>\n",
       "      <td>10057.57</td>\n",
       "      <td>0.00002</td>\n",
       "      <td>34.34</td>\n",
       "      <td>0.196394</td>\n",
       "      <td>36.09682</td>\n",
       "    </tr>\n",
       "    <tr>\n",
       "      <th>12</th>\n",
       "      <td>10243.67</td>\n",
       "      <td>0.00002</td>\n",
       "      <td>34.22</td>\n",
       "      <td>0.196613</td>\n",
       "      <td>36.09682</td>\n",
       "    </tr>\n",
       "    <tr>\n",
       "      <th>13</th>\n",
       "      <td>10353.66</td>\n",
       "      <td>0.00002</td>\n",
       "      <td>34.30</td>\n",
       "      <td>0.195139</td>\n",
       "      <td>36.09682</td>\n",
       "    </tr>\n",
       "    <tr>\n",
       "      <th>14</th>\n",
       "      <td>10189.75</td>\n",
       "      <td>0.00002</td>\n",
       "      <td>34.53</td>\n",
       "      <td>0.195423</td>\n",
       "      <td>36.09682</td>\n",
       "    </tr>\n",
       "    <tr>\n",
       "      <th>15</th>\n",
       "      <td>10292.43</td>\n",
       "      <td>0.00002</td>\n",
       "      <td>33.87</td>\n",
       "      <td>0.192581</td>\n",
       "      <td>36.09682</td>\n",
       "    </tr>\n",
       "    <tr>\n",
       "      <th>16</th>\n",
       "      <td>10068.52</td>\n",
       "      <td>0.00002</td>\n",
       "      <td>33.87</td>\n",
       "      <td>0.196018</td>\n",
       "      <td>36.09682</td>\n",
       "    </tr>\n",
       "    <tr>\n",
       "      <th>17</th>\n",
       "      <td>10114.56</td>\n",
       "      <td>0.00002</td>\n",
       "      <td>34.44</td>\n",
       "      <td>0.200619</td>\n",
       "      <td>36.09682</td>\n",
       "    </tr>\n",
       "    <tr>\n",
       "      <th>18</th>\n",
       "      <td>10190.30</td>\n",
       "      <td>0.00002</td>\n",
       "      <td>34.24</td>\n",
       "      <td>0.192396</td>\n",
       "      <td>36.09682</td>\n",
       "    </tr>\n",
       "    <tr>\n",
       "      <th>19</th>\n",
       "      <td>10084.99</td>\n",
       "      <td>0.00002</td>\n",
       "      <td>34.13</td>\n",
       "      <td>0.197945</td>\n",
       "      <td>36.09682</td>\n",
       "    </tr>\n",
       "    <tr>\n",
       "      <th>20</th>\n",
       "      <td>10007.13</td>\n",
       "      <td>0.00002</td>\n",
       "      <td>34.40</td>\n",
       "      <td>0.195826</td>\n",
       "      <td>36.09682</td>\n",
       "    </tr>\n",
       "    <tr>\n",
       "      <th>21</th>\n",
       "      <td>10241.93</td>\n",
       "      <td>0.00002</td>\n",
       "      <td>34.49</td>\n",
       "      <td>0.196125</td>\n",
       "      <td>36.09682</td>\n",
       "    </tr>\n",
       "    <tr>\n",
       "      <th>22</th>\n",
       "      <td>10318.15</td>\n",
       "      <td>0.00002</td>\n",
       "      <td>34.62</td>\n",
       "      <td>0.203565</td>\n",
       "      <td>36.09682</td>\n",
       "    </tr>\n",
       "    <tr>\n",
       "      <th>23</th>\n",
       "      <td>10153.68</td>\n",
       "      <td>0.00002</td>\n",
       "      <td>34.93</td>\n",
       "      <td>0.198893</td>\n",
       "      <td>36.09682</td>\n",
       "    </tr>\n",
       "    <tr>\n",
       "      <th>24</th>\n",
       "      <td>10266.97</td>\n",
       "      <td>0.00002</td>\n",
       "      <td>33.22</td>\n",
       "      <td>0.205202</td>\n",
       "      <td>36.09682</td>\n",
       "    </tr>\n",
       "    <tr>\n",
       "      <th>25</th>\n",
       "      <td>10082.99</td>\n",
       "      <td>0.00002</td>\n",
       "      <td>32.36</td>\n",
       "      <td>0.199590</td>\n",
       "      <td>36.09682</td>\n",
       "    </tr>\n",
       "    <tr>\n",
       "      <th>26</th>\n",
       "      <td>10467.26</td>\n",
       "      <td>0.00002</td>\n",
       "      <td>33.38</td>\n",
       "      <td>0.197375</td>\n",
       "      <td>36.09682</td>\n",
       "    </tr>\n",
       "    <tr>\n",
       "      <th>27</th>\n",
       "      <td>10262.88</td>\n",
       "      <td>0.00002</td>\n",
       "      <td>33.72</td>\n",
       "      <td>0.205120</td>\n",
       "      <td>36.09682</td>\n",
       "    </tr>\n",
       "    <tr>\n",
       "      <th>28</th>\n",
       "      <td>10237.91</td>\n",
       "      <td>0.00002</td>\n",
       "      <td>34.31</td>\n",
       "      <td>0.197789</td>\n",
       "      <td>36.09682</td>\n",
       "    </tr>\n",
       "    <tr>\n",
       "      <th>29</th>\n",
       "      <td>10029.95</td>\n",
       "      <td>0.00002</td>\n",
       "      <td>34.50</td>\n",
       "      <td>0.196542</td>\n",
       "      <td>36.09682</td>\n",
       "    </tr>\n",
       "    <tr>\n",
       "      <th>...</th>\n",
       "      <td>...</td>\n",
       "      <td>...</td>\n",
       "      <td>...</td>\n",
       "      <td>...</td>\n",
       "      <td>...</td>\n",
       "    </tr>\n",
       "    <tr>\n",
       "      <th>970</th>\n",
       "      <td>10085.64</td>\n",
       "      <td>0.00002</td>\n",
       "      <td>33.32</td>\n",
       "      <td>0.201392</td>\n",
       "      <td>36.09682</td>\n",
       "    </tr>\n",
       "    <tr>\n",
       "      <th>971</th>\n",
       "      <td>10196.19</td>\n",
       "      <td>0.00002</td>\n",
       "      <td>33.01</td>\n",
       "      <td>0.190894</td>\n",
       "      <td>36.09682</td>\n",
       "    </tr>\n",
       "    <tr>\n",
       "      <th>972</th>\n",
       "      <td>10523.59</td>\n",
       "      <td>0.00002</td>\n",
       "      <td>33.92</td>\n",
       "      <td>0.195135</td>\n",
       "      <td>36.09682</td>\n",
       "    </tr>\n",
       "    <tr>\n",
       "      <th>973</th>\n",
       "      <td>10137.18</td>\n",
       "      <td>0.00002</td>\n",
       "      <td>34.74</td>\n",
       "      <td>0.191781</td>\n",
       "      <td>36.09682</td>\n",
       "    </tr>\n",
       "    <tr>\n",
       "      <th>974</th>\n",
       "      <td>10673.12</td>\n",
       "      <td>0.00002</td>\n",
       "      <td>32.47</td>\n",
       "      <td>0.199718</td>\n",
       "      <td>36.09682</td>\n",
       "    </tr>\n",
       "    <tr>\n",
       "      <th>975</th>\n",
       "      <td>10186.27</td>\n",
       "      <td>0.00002</td>\n",
       "      <td>32.83</td>\n",
       "      <td>0.197692</td>\n",
       "      <td>36.09682</td>\n",
       "    </tr>\n",
       "    <tr>\n",
       "      <th>976</th>\n",
       "      <td>10136.04</td>\n",
       "      <td>0.00002</td>\n",
       "      <td>33.81</td>\n",
       "      <td>0.195168</td>\n",
       "      <td>36.09682</td>\n",
       "    </tr>\n",
       "    <tr>\n",
       "      <th>977</th>\n",
       "      <td>10239.46</td>\n",
       "      <td>0.00002</td>\n",
       "      <td>34.17</td>\n",
       "      <td>0.196527</td>\n",
       "      <td>36.09682</td>\n",
       "    </tr>\n",
       "    <tr>\n",
       "      <th>978</th>\n",
       "      <td>10261.70</td>\n",
       "      <td>0.00002</td>\n",
       "      <td>34.49</td>\n",
       "      <td>0.197341</td>\n",
       "      <td>36.09682</td>\n",
       "    </tr>\n",
       "    <tr>\n",
       "      <th>979</th>\n",
       "      <td>10203.24</td>\n",
       "      <td>0.00002</td>\n",
       "      <td>33.95</td>\n",
       "      <td>0.198292</td>\n",
       "      <td>36.09682</td>\n",
       "    </tr>\n",
       "    <tr>\n",
       "      <th>980</th>\n",
       "      <td>10199.42</td>\n",
       "      <td>0.00002</td>\n",
       "      <td>33.86</td>\n",
       "      <td>0.197046</td>\n",
       "      <td>36.09682</td>\n",
       "    </tr>\n",
       "    <tr>\n",
       "      <th>981</th>\n",
       "      <td>10226.98</td>\n",
       "      <td>0.00002</td>\n",
       "      <td>34.57</td>\n",
       "      <td>0.199021</td>\n",
       "      <td>36.09682</td>\n",
       "    </tr>\n",
       "    <tr>\n",
       "      <th>982</th>\n",
       "      <td>10029.24</td>\n",
       "      <td>0.00002</td>\n",
       "      <td>34.12</td>\n",
       "      <td>0.197018</td>\n",
       "      <td>36.09682</td>\n",
       "    </tr>\n",
       "    <tr>\n",
       "      <th>983</th>\n",
       "      <td>9988.81</td>\n",
       "      <td>0.00002</td>\n",
       "      <td>35.01</td>\n",
       "      <td>0.190749</td>\n",
       "      <td>36.09682</td>\n",
       "    </tr>\n",
       "    <tr>\n",
       "      <th>984</th>\n",
       "      <td>10170.48</td>\n",
       "      <td>0.00002</td>\n",
       "      <td>32.88</td>\n",
       "      <td>0.192863</td>\n",
       "      <td>36.09682</td>\n",
       "    </tr>\n",
       "    <tr>\n",
       "      <th>985</th>\n",
       "      <td>10017.69</td>\n",
       "      <td>0.00002</td>\n",
       "      <td>34.29</td>\n",
       "      <td>0.196220</td>\n",
       "      <td>36.09682</td>\n",
       "    </tr>\n",
       "    <tr>\n",
       "      <th>986</th>\n",
       "      <td>10047.52</td>\n",
       "      <td>0.00002</td>\n",
       "      <td>33.38</td>\n",
       "      <td>0.198451</td>\n",
       "      <td>36.09682</td>\n",
       "    </tr>\n",
       "    <tr>\n",
       "      <th>987</th>\n",
       "      <td>10099.39</td>\n",
       "      <td>0.00002</td>\n",
       "      <td>34.58</td>\n",
       "      <td>0.192353</td>\n",
       "      <td>36.09682</td>\n",
       "    </tr>\n",
       "    <tr>\n",
       "      <th>988</th>\n",
       "      <td>10131.42</td>\n",
       "      <td>0.00002</td>\n",
       "      <td>34.30</td>\n",
       "      <td>0.200349</td>\n",
       "      <td>36.09682</td>\n",
       "    </tr>\n",
       "    <tr>\n",
       "      <th>989</th>\n",
       "      <td>10118.03</td>\n",
       "      <td>0.00002</td>\n",
       "      <td>33.22</td>\n",
       "      <td>0.193171</td>\n",
       "      <td>36.09682</td>\n",
       "    </tr>\n",
       "    <tr>\n",
       "      <th>990</th>\n",
       "      <td>10078.43</td>\n",
       "      <td>0.00002</td>\n",
       "      <td>34.72</td>\n",
       "      <td>0.199214</td>\n",
       "      <td>36.09682</td>\n",
       "    </tr>\n",
       "    <tr>\n",
       "      <th>991</th>\n",
       "      <td>10335.41</td>\n",
       "      <td>0.00002</td>\n",
       "      <td>33.88</td>\n",
       "      <td>0.194552</td>\n",
       "      <td>36.09682</td>\n",
       "    </tr>\n",
       "    <tr>\n",
       "      <th>992</th>\n",
       "      <td>10102.08</td>\n",
       "      <td>0.00002</td>\n",
       "      <td>33.68</td>\n",
       "      <td>0.199796</td>\n",
       "      <td>36.09682</td>\n",
       "    </tr>\n",
       "    <tr>\n",
       "      <th>993</th>\n",
       "      <td>10100.87</td>\n",
       "      <td>0.00002</td>\n",
       "      <td>34.07</td>\n",
       "      <td>0.196914</td>\n",
       "      <td>36.09682</td>\n",
       "    </tr>\n",
       "    <tr>\n",
       "      <th>994</th>\n",
       "      <td>10045.14</td>\n",
       "      <td>0.00002</td>\n",
       "      <td>34.55</td>\n",
       "      <td>0.193881</td>\n",
       "      <td>36.09682</td>\n",
       "    </tr>\n",
       "    <tr>\n",
       "      <th>995</th>\n",
       "      <td>10076.80</td>\n",
       "      <td>0.00002</td>\n",
       "      <td>34.82</td>\n",
       "      <td>0.197805</td>\n",
       "      <td>36.09682</td>\n",
       "    </tr>\n",
       "    <tr>\n",
       "      <th>996</th>\n",
       "      <td>10116.82</td>\n",
       "      <td>0.00002</td>\n",
       "      <td>34.07</td>\n",
       "      <td>0.198514</td>\n",
       "      <td>36.09682</td>\n",
       "    </tr>\n",
       "    <tr>\n",
       "      <th>997</th>\n",
       "      <td>10183.08</td>\n",
       "      <td>0.00002</td>\n",
       "      <td>34.74</td>\n",
       "      <td>0.191907</td>\n",
       "      <td>36.09682</td>\n",
       "    </tr>\n",
       "    <tr>\n",
       "      <th>998</th>\n",
       "      <td>10069.22</td>\n",
       "      <td>0.00002</td>\n",
       "      <td>34.06</td>\n",
       "      <td>0.199036</td>\n",
       "      <td>36.09682</td>\n",
       "    </tr>\n",
       "    <tr>\n",
       "      <th>999</th>\n",
       "      <td>10123.78</td>\n",
       "      <td>0.00002</td>\n",
       "      <td>33.81</td>\n",
       "      <td>0.201059</td>\n",
       "      <td>36.09682</td>\n",
       "    </tr>\n",
       "  </tbody>\n",
       "</table>\n",
       "<p>1000 rows × 5 columns</p>\n",
       "</div>"
      ],
      "text/plain": [
       "     Btc_price  Daily_output  Cloud_price    Revenu  Reimbursement\n",
       "0     10403.89       0.00002        34.62  0.199621       36.09682\n",
       "1     10338.82       0.00002        34.21  0.197360       36.09682\n",
       "2     10258.26       0.00002        33.20  0.194654       36.09682\n",
       "3     10139.93       0.00002        34.36  0.200167       36.09682\n",
       "4     10121.58       0.00002        33.47  0.202296       36.09682\n",
       "5     10341.90       0.00002        34.58  0.196386       36.09682\n",
       "6     10091.22       0.00002        34.16  0.194781       36.09682\n",
       "7     10099.93       0.00002        32.40  0.193114       36.09682\n",
       "8     10383.47       0.00002        34.27  0.194894       36.09682\n",
       "9     10217.63       0.00002        33.86  0.199915       36.09682\n",
       "10    10222.67       0.00002        33.71  0.202801       36.09682\n",
       "11    10057.57       0.00002        34.34  0.196394       36.09682\n",
       "12    10243.67       0.00002        34.22  0.196613       36.09682\n",
       "13    10353.66       0.00002        34.30  0.195139       36.09682\n",
       "14    10189.75       0.00002        34.53  0.195423       36.09682\n",
       "15    10292.43       0.00002        33.87  0.192581       36.09682\n",
       "16    10068.52       0.00002        33.87  0.196018       36.09682\n",
       "17    10114.56       0.00002        34.44  0.200619       36.09682\n",
       "18    10190.30       0.00002        34.24  0.192396       36.09682\n",
       "19    10084.99       0.00002        34.13  0.197945       36.09682\n",
       "20    10007.13       0.00002        34.40  0.195826       36.09682\n",
       "21    10241.93       0.00002        34.49  0.196125       36.09682\n",
       "22    10318.15       0.00002        34.62  0.203565       36.09682\n",
       "23    10153.68       0.00002        34.93  0.198893       36.09682\n",
       "24    10266.97       0.00002        33.22  0.205202       36.09682\n",
       "25    10082.99       0.00002        32.36  0.199590       36.09682\n",
       "26    10467.26       0.00002        33.38  0.197375       36.09682\n",
       "27    10262.88       0.00002        33.72  0.205120       36.09682\n",
       "28    10237.91       0.00002        34.31  0.197789       36.09682\n",
       "29    10029.95       0.00002        34.50  0.196542       36.09682\n",
       "..         ...           ...          ...       ...            ...\n",
       "970   10085.64       0.00002        33.32  0.201392       36.09682\n",
       "971   10196.19       0.00002        33.01  0.190894       36.09682\n",
       "972   10523.59       0.00002        33.92  0.195135       36.09682\n",
       "973   10137.18       0.00002        34.74  0.191781       36.09682\n",
       "974   10673.12       0.00002        32.47  0.199718       36.09682\n",
       "975   10186.27       0.00002        32.83  0.197692       36.09682\n",
       "976   10136.04       0.00002        33.81  0.195168       36.09682\n",
       "977   10239.46       0.00002        34.17  0.196527       36.09682\n",
       "978   10261.70       0.00002        34.49  0.197341       36.09682\n",
       "979   10203.24       0.00002        33.95  0.198292       36.09682\n",
       "980   10199.42       0.00002        33.86  0.197046       36.09682\n",
       "981   10226.98       0.00002        34.57  0.199021       36.09682\n",
       "982   10029.24       0.00002        34.12  0.197018       36.09682\n",
       "983    9988.81       0.00002        35.01  0.190749       36.09682\n",
       "984   10170.48       0.00002        32.88  0.192863       36.09682\n",
       "985   10017.69       0.00002        34.29  0.196220       36.09682\n",
       "986   10047.52       0.00002        33.38  0.198451       36.09682\n",
       "987   10099.39       0.00002        34.58  0.192353       36.09682\n",
       "988   10131.42       0.00002        34.30  0.200349       36.09682\n",
       "989   10118.03       0.00002        33.22  0.193171       36.09682\n",
       "990   10078.43       0.00002        34.72  0.199214       36.09682\n",
       "991   10335.41       0.00002        33.88  0.194552       36.09682\n",
       "992   10102.08       0.00002        33.68  0.199796       36.09682\n",
       "993   10100.87       0.00002        34.07  0.196914       36.09682\n",
       "994   10045.14       0.00002        34.55  0.193881       36.09682\n",
       "995   10076.80       0.00002        34.82  0.197805       36.09682\n",
       "996   10116.82       0.00002        34.07  0.198514       36.09682\n",
       "997   10183.08       0.00002        34.74  0.191907       36.09682\n",
       "998   10069.22       0.00002        34.06  0.199036       36.09682\n",
       "999   10123.78       0.00002        33.81  0.201059       36.09682\n",
       "\n",
       "[1000 rows x 5 columns]"
      ]
     },
     "execution_count": 36,
     "metadata": {},
     "output_type": "execute_result"
    }
   ],
   "source": [
    "result_df"
   ]
  },
  {
   "cell_type": "code",
   "execution_count": 37,
   "metadata": {},
   "outputs": [],
   "source": [
    "#result_df.to_excel(excel_writer = r\"C:\\Users\\ding_\\Desktop\\云算力结果分段1.xlsx\")"
   ]
  },
  {
   "cell_type": "code",
   "execution_count": 38,
   "metadata": {},
   "outputs": [
    {
     "data": {
      "text/plain": [
       "[<matplotlib.lines.Line2D at 0x29a231afe10>]"
      ]
     },
     "execution_count": 38,
     "metadata": {},
     "output_type": "execute_result"
    },
    {
     "data": {
      "image/png": "[encoded data removed]",
      "text/plain": [
       "<Figure size 432x288 with 1 Axes>"
      ]
     },
     "metadata": {
      "needs_background": "light"
     },
     "output_type": "display_data"
    }
   ],
   "source": [
    "import matplotlib.pyplot as plt\n",
    "y = [20,200,2000,20000,200000]\n",
    "z = [30,300,3000,30000,300000]\n",
    "plt.loglog(y,z)"
   ]
  }
 ],
 "metadata": {
  "kernelspec": {
   "display_name": "Python 3",
   "language": "python",
   "name": "python3"
  },
  "language_info": {
   "codemirror_mode": {
    "name": "ipython",
    "version": 3
   },
   "file_extension": ".py",
   "mimetype": "text/x-python",
   "name": "python",
   "nbconvert_exporter": "python",
   "pygments_lexer": "ipython3",
   "version": "3.7.3"
  }
 },
 "nbformat": 4,
 "nbformat_minor": 2
}
