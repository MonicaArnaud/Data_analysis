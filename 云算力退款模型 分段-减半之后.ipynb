{
 "cells": [
  {
   "cell_type": "code",
   "execution_count": 1,
   "metadata": {},
   "outputs": [],
   "source": [
    "#There are two components to running a Monte Carlo simulations:\n",
    "#the equation to evaluate\n",
    "#the random variables for the input"
   ]
  },
  {
   "cell_type": "code",
   "execution_count": 2,
   "metadata": {},
   "outputs": [],
   "source": [
    "import pandas as pd\n",
    "import numpy as np\n",
    "import seaborn as sns\n",
    "sns.set_style('whitegrid')"
   ]
  },
  {
   "cell_type": "code",
   "execution_count": 3,
   "metadata": {},
   "outputs": [],
   "source": [
    "#减半之后，币价按当前均值的1.5倍计算，运行200天，标准差保持不变\n",
    "avg = 14006\n",
    "std_dtv =310.013\n",
    "num_reps = 200\n",
    "num_simulations = 1000"
   ]
  },
  {
   "cell_type": "code",
   "execution_count": 4,
   "metadata": {},
   "outputs": [],
   "source": [
    "btc_price= np.random.normal(avg,std_dtv,num_reps).round(2)"
   ]
  },
  {
   "cell_type": "code",
   "execution_count": 5,
   "metadata": {
    "scrolled": true
   },
   "outputs": [
    {
     "name": "stdout",
     "output_type": "stream",
     "text": [
      "200\n"
     ]
    }
   ],
   "source": [
    "btc_price[0:200]\n",
    "print(len(btc_price))"
   ]
  },
  {
   "cell_type": "code",
   "execution_count": 6,
   "metadata": {},
   "outputs": [],
   "source": [
    "#难度减半，之后难度按4%递增\n",
    "daily_output_summary = []\n",
    "daily_output=1.2756230374571436e-05/2\n",
    "\n",
    "for day in range(200):\n",
    "    if (day) % 14 == 0:\n",
    "        daily_output = daily_output * 0.96\n",
    "    daily_output_summary.append(daily_output)"
   ]
  },
  {
   "cell_type": "code",
   "execution_count": 7,
   "metadata": {},
   "outputs": [
    {
     "name": "stdout",
     "output_type": "stream",
     "text": [
      "200\n"
     ]
    }
   ],
   "source": [
    "Daily_output_btc=daily_output_summary\n",
    "print(len(Daily_output_btc))"
   ]
  },
  {
   "cell_type": "code",
   "execution_count": 8,
   "metadata": {},
   "outputs": [],
   "source": [
    "df = pd.DataFrame(index=range(num_reps),data={'Btc_price':btc_price,\n",
    "                                             'Daily_output':Daily_output_btc})\n",
    "df['Revenu']=df['Btc_price']*df['Daily_output']"
   ]
  },
  {
   "cell_type": "code",
   "execution_count": 9,
   "metadata": {},
   "outputs": [],
   "source": [
    "Revenu = df['Btc_price']*df['Daily_output']"
   ]
  },
  {
   "cell_type": "code",
   "execution_count": 10,
   "metadata": {},
   "outputs": [
    {
     "data": {
      "text/html": [
       "<div>\n",
       "<style scoped>\n",
       "    .dataframe tbody tr th:only-of-type {\n",
       "        vertical-align: middle;\n",
       "    }\n",
       "\n",
       "    .dataframe tbody tr th {\n",
       "        vertical-align: top;\n",
       "    }\n",
       "\n",
       "    .dataframe thead th {\n",
       "        text-align: right;\n",
       "    }\n",
       "</style>\n",
       "<table border=\"1\" class=\"dataframe\">\n",
       "  <thead>\n",
       "    <tr style=\"text-align: right;\">\n",
       "      <th></th>\n",
       "      <th>Btc_price</th>\n",
       "      <th>Daily_output</th>\n",
       "      <th>Revenu</th>\n",
       "    </tr>\n",
       "  </thead>\n",
       "  <tbody>\n",
       "    <tr>\n",
       "      <th>0</th>\n",
       "      <td>13749.93</td>\n",
       "      <td>0.000006</td>\n",
       "      <td>0.084191</td>\n",
       "    </tr>\n",
       "    <tr>\n",
       "      <th>1</th>\n",
       "      <td>13612.02</td>\n",
       "      <td>0.000006</td>\n",
       "      <td>0.083346</td>\n",
       "    </tr>\n",
       "    <tr>\n",
       "      <th>2</th>\n",
       "      <td>13809.93</td>\n",
       "      <td>0.000006</td>\n",
       "      <td>0.084558</td>\n",
       "    </tr>\n",
       "    <tr>\n",
       "      <th>3</th>\n",
       "      <td>14318.88</td>\n",
       "      <td>0.000006</td>\n",
       "      <td>0.087674</td>\n",
       "    </tr>\n",
       "    <tr>\n",
       "      <th>4</th>\n",
       "      <td>14371.60</td>\n",
       "      <td>0.000006</td>\n",
       "      <td>0.087997</td>\n",
       "    </tr>\n",
       "  </tbody>\n",
       "</table>\n",
       "</div>"
      ],
      "text/plain": [
       "   Btc_price  Daily_output    Revenu\n",
       "0   13749.93      0.000006  0.084191\n",
       "1   13612.02      0.000006  0.083346\n",
       "2   13809.93      0.000006  0.084558\n",
       "3   14318.88      0.000006  0.087674\n",
       "4   14371.60      0.000006  0.087997"
      ]
     },
     "execution_count": 10,
     "metadata": {},
     "output_type": "execute_result"
    }
   ],
   "source": [
    "df.head()"
   ]
  },
  {
   "cell_type": "code",
   "execution_count": 11,
   "metadata": {},
   "outputs": [
    {
     "data": {
      "text/html": [
       "<div>\n",
       "<style scoped>\n",
       "    .dataframe tbody tr th:only-of-type {\n",
       "        vertical-align: middle;\n",
       "    }\n",
       "\n",
       "    .dataframe tbody tr th {\n",
       "        vertical-align: top;\n",
       "    }\n",
       "\n",
       "    .dataframe thead th {\n",
       "        text-align: right;\n",
       "    }\n",
       "</style>\n",
       "<table border=\"1\" class=\"dataframe\">\n",
       "  <thead>\n",
       "    <tr style=\"text-align: right;\">\n",
       "      <th></th>\n",
       "      <th>Btc_price</th>\n",
       "      <th>Daily_output</th>\n",
       "      <th>Revenu</th>\n",
       "    </tr>\n",
       "  </thead>\n",
       "  <tbody>\n",
       "    <tr>\n",
       "      <th>195</th>\n",
       "      <td>13826.21</td>\n",
       "      <td>0.000004</td>\n",
       "      <td>0.049796</td>\n",
       "    </tr>\n",
       "    <tr>\n",
       "      <th>196</th>\n",
       "      <td>14294.27</td>\n",
       "      <td>0.000003</td>\n",
       "      <td>0.049422</td>\n",
       "    </tr>\n",
       "    <tr>\n",
       "      <th>197</th>\n",
       "      <td>14038.66</td>\n",
       "      <td>0.000003</td>\n",
       "      <td>0.048539</td>\n",
       "    </tr>\n",
       "    <tr>\n",
       "      <th>198</th>\n",
       "      <td>13919.07</td>\n",
       "      <td>0.000003</td>\n",
       "      <td>0.048125</td>\n",
       "    </tr>\n",
       "    <tr>\n",
       "      <th>199</th>\n",
       "      <td>14030.56</td>\n",
       "      <td>0.000003</td>\n",
       "      <td>0.048511</td>\n",
       "    </tr>\n",
       "  </tbody>\n",
       "</table>\n",
       "</div>"
      ],
      "text/plain": [
       "     Btc_price  Daily_output    Revenu\n",
       "195   13826.21      0.000004  0.049796\n",
       "196   14294.27      0.000003  0.049422\n",
       "197   14038.66      0.000003  0.048539\n",
       "198   13919.07      0.000003  0.048125\n",
       "199   14030.56      0.000003  0.048511"
      ]
     },
     "execution_count": 11,
     "metadata": {},
     "output_type": "execute_result"
    }
   ],
   "source": [
    "df.tail()"
   ]
  },
  {
   "cell_type": "code",
   "execution_count": 12,
   "metadata": {},
   "outputs": [],
   "source": [
    "#Cloud mining pricing\n",
    "cloud_price = df['Revenu']*300\n",
    "df = pd.DataFrame(index=range(num_reps),data={'Btc_price':btc_price,\n",
    "                                             'Daily_output':daily_output_summary,\n",
    "                                             'Cloud_price':cloud_price})"
   ]
  },
  {
   "cell_type": "code",
   "execution_count": 13,
   "metadata": {},
   "outputs": [
    {
     "data": {
      "text/plain": [
       "<matplotlib.axes._subplots.AxesSubplot at 0x200e4215860>"
      ]
     },
     "execution_count": 13,
     "metadata": {},
     "output_type": "execute_result"
    },
    {
     "data": {
      "image/png": "[encoded data removed]",
      "text/plain": [
       "<Figure size 432x288 with 1 Axes>"
      ]
     },
     "metadata": {
      "needs_background": "light"
     },
     "output_type": "display_data"
    }
   ],
   "source": [
    "df['Daily_output'].plot(kind='line',title='Daily output distribution')"
   ]
  },
  {
   "cell_type": "code",
   "execution_count": 14,
   "metadata": {
    "scrolled": true
   },
   "outputs": [
    {
     "data": {
      "text/plain": [
       "<matplotlib.axes._subplots.AxesSubplot at 0x200e4532240>"
      ]
     },
     "execution_count": 14,
     "metadata": {},
     "output_type": "execute_result"
    },
    {
     "data": {
      "image/png": "[encoded data removed]",
      "text/plain": [
       "<Figure size 432x288 with 1 Axes>"
      ]
     },
     "metadata": {
      "needs_background": "light"
     },
     "output_type": "display_data"
    }
   ],
   "source": [
    "df['Btc_price'].plot(kind='line',title='Btc Price')"
   ]
  },
  {
   "cell_type": "code",
   "execution_count": 15,
   "metadata": {},
   "outputs": [
    {
     "data": {
      "text/plain": [
       "<matplotlib.axes._subplots.AxesSubplot at 0x200e557d160>"
      ]
     },
     "execution_count": 15,
     "metadata": {},
     "output_type": "execute_result"
    },
    {
     "data": {
      "image/png": "[encoded data removed]",
      "text/plain": [
       "<Figure size 432x288 with 1 Axes>"
      ]
     },
     "metadata": {
      "needs_background": "light"
     },
     "output_type": "display_data"
    }
   ],
   "source": [
    "df['Btc_price'].plot(kind='hist',title='Btc Price')"
   ]
  },
  {
   "cell_type": "code",
   "execution_count": 16,
   "metadata": {},
   "outputs": [],
   "source": [
    "reimbursement_s = []\n",
    "\n",
    "for day in range(200):\n",
    "    if day <= 120:\n",
    "        reimbursement  = 0\n",
    "    if day> 120:\n",
    "        reimbursement = cloud_price[day-120]*0.5\n",
    "\n",
    "    reimbursement_s.append(reimbursement)"
   ]
  },
  {
   "cell_type": "code",
   "execution_count": 17,
   "metadata": {},
   "outputs": [],
   "source": [
    "df = pd.DataFrame(index=range(num_reps),data={'Btc_price':btc_price,\n",
    "                                             'Daily_output':daily_output_summary,\n",
    "                                              'Revenue':Revenu,\n",
    "                                             'Cloud_price':cloud_price,\n",
    "                                             'reimbursement':reimbursement_s})"
   ]
  },
  {
   "cell_type": "code",
   "execution_count": 18,
   "metadata": {},
   "outputs": [
    {
     "data": {
      "text/html": [
       "<div>\n",
       "<style scoped>\n",
       "    .dataframe tbody tr th:only-of-type {\n",
       "        vertical-align: middle;\n",
       "    }\n",
       "\n",
       "    .dataframe tbody tr th {\n",
       "        vertical-align: top;\n",
       "    }\n",
       "\n",
       "    .dataframe thead th {\n",
       "        text-align: right;\n",
       "    }\n",
       "</style>\n",
       "<table border=\"1\" class=\"dataframe\">\n",
       "  <thead>\n",
       "    <tr style=\"text-align: right;\">\n",
       "      <th></th>\n",
       "      <th>Btc_price</th>\n",
       "      <th>Daily_output</th>\n",
       "      <th>Revenue</th>\n",
       "      <th>Cloud_price</th>\n",
       "      <th>reimbursement</th>\n",
       "    </tr>\n",
       "  </thead>\n",
       "  <tbody>\n",
       "    <tr>\n",
       "      <th>1</th>\n",
       "      <td>13612.02</td>\n",
       "      <td>0.000006</td>\n",
       "      <td>0.083346</td>\n",
       "      <td>25.003881</td>\n",
       "      <td>0.000000</td>\n",
       "    </tr>\n",
       "    <tr>\n",
       "      <th>121</th>\n",
       "      <td>13748.40</td>\n",
       "      <td>0.000004</td>\n",
       "      <td>0.060728</td>\n",
       "      <td>18.218259</td>\n",
       "      <td>12.501941</td>\n",
       "    </tr>\n",
       "  </tbody>\n",
       "</table>\n",
       "</div>"
      ],
      "text/plain": [
       "     Btc_price  Daily_output   Revenue  Cloud_price  reimbursement\n",
       "1     13612.02      0.000006  0.083346    25.003881       0.000000\n",
       "121   13748.40      0.000004  0.060728    18.218259      12.501941"
      ]
     },
     "execution_count": 18,
     "metadata": {},
     "output_type": "execute_result"
    }
   ],
   "source": [
    "df[1:122:120]"
   ]
  },
  {
   "cell_type": "code",
   "execution_count": 19,
   "metadata": {
    "scrolled": false
   },
   "outputs": [
    {
     "data": {
      "text/plain": [
       "<matplotlib.axes._subplots.AxesSubplot at 0x200e557dcf8>"
      ]
     },
     "execution_count": 19,
     "metadata": {},
     "output_type": "execute_result"
    },
    {
     "data": {
      "image/png": "[encoded data removed]",
      "text/plain": [
       "<Figure size 432x288 with 1 Axes>"
      ]
     },
     "metadata": {
      "needs_background": "light"
     },
     "output_type": "display_data"
    }
   ],
   "source": [
    "df['reimbursement'].plot(kind='line',title='Reimbusement')"
   ]
  },
  {
   "cell_type": "code",
   "execution_count": 20,
   "metadata": {
    "scrolled": true
   },
   "outputs": [
    {
     "data": {
      "text/plain": [
       "<matplotlib.axes._subplots.AxesSubplot at 0x200e565a390>"
      ]
     },
     "execution_count": 20,
     "metadata": {},
     "output_type": "execute_result"
    },
    {
     "data": {
      "image/png": "[encoded data removed]",
      "text/plain": [
       "<Figure size 432x288 with 1 Axes>"
      ]
     },
     "metadata": {
      "needs_background": "light"
     },
     "output_type": "display_data"
    }
   ],
   "source": [
    "sns.distplot(df['reimbursement'],bins=15)"
   ]
  },
  {
   "cell_type": "code",
   "execution_count": 21,
   "metadata": {
    "scrolled": true
   },
   "outputs": [
    {
     "data": {
      "text/plain": [
       "<matplotlib.axes._subplots.AxesSubplot at 0x200e56d8ba8>"
      ]
     },
     "execution_count": 21,
     "metadata": {},
     "output_type": "execute_result"
    },
    {
     "data": {
      "image/png": "[encoded data removed]",
      "text/plain": [
       "<Figure size 432x288 with 1 Axes>"
      ]
     },
     "metadata": {
      "needs_background": "light"
     },
     "output_type": "display_data"
    }
   ],
   "source": [
    "sns.distplot(df['Cloud_price'],bins=15)"
   ]
  },
  {
   "cell_type": "code",
   "execution_count": 22,
   "metadata": {},
   "outputs": [
    {
     "data": {
      "text/plain": [
       "<matplotlib.axes._subplots.AxesSubplot at 0x200e5750c18>"
      ]
     },
     "execution_count": 22,
     "metadata": {},
     "output_type": "execute_result"
    },
    {
     "data": {
      "image/png": "[encoded data removed]",
      "text/plain": [
       "<Figure size 432x288 with 1 Axes>"
      ]
     },
     "metadata": {
      "needs_background": "light"
     },
     "output_type": "display_data"
    }
   ],
   "source": [
    "df['Cloud_price'].plot(kind='hist',bins=8,title='Cloud mining price')"
   ]
  },
  {
   "cell_type": "code",
   "execution_count": 23,
   "metadata": {},
   "outputs": [
    {
     "data": {
      "text/plain": [
       "<matplotlib.axes._subplots.AxesSubplot at 0x200e57d4f98>"
      ]
     },
     "execution_count": 23,
     "metadata": {},
     "output_type": "execute_result"
    },
    {
     "data": {
      "image/png": "[encoded data removed]",
      "text/plain": [
       "<Figure size 432x288 with 1 Axes>"
      ]
     },
     "metadata": {
      "needs_background": "light"
     },
     "output_type": "display_data"
    }
   ],
   "source": [
    "df['reimbursement'].plot(kind='hist',bins=8,title='Reimbusement')"
   ]
  },
  {
   "cell_type": "code",
   "execution_count": 24,
   "metadata": {},
   "outputs": [
    {
     "data": {
      "text/plain": [
       "<matplotlib.axes._subplots.AxesSubplot at 0x200e58517b8>"
      ]
     },
     "execution_count": 24,
     "metadata": {},
     "output_type": "execute_result"
    },
    {
     "data": {
      "image/png": "[encoded data removed]",
      "text/plain": [
       "<Figure size 432x288 with 1 Axes>"
      ]
     },
     "metadata": {
      "needs_background": "light"
     },
     "output_type": "display_data"
    }
   ],
   "source": [
    "df['Cloud_price'].plot(kind='line',title='Cloud Mining Price')"
   ]
  },
  {
   "cell_type": "code",
   "execution_count": 25,
   "metadata": {
    "scrolled": true
   },
   "outputs": [
    {
     "data": {
      "text/html": [
       "<style  type=\"text/css\" >\n",
       "</style><table id=\"T_41736ac6_159c_11ea_adb8_3c6aa71dd48a\" ><thead>    <tr>        <th class=\"blank level0\" ></th>        <th class=\"col_heading level0 col0\" >Btc_price</th>        <th class=\"col_heading level0 col1\" >Daily_output</th>        <th class=\"col_heading level0 col2\" >Revenue</th>        <th class=\"col_heading level0 col3\" >Cloud_price</th>        <th class=\"col_heading level0 col4\" >reimbursement</th>    </tr></thead><tbody>\n",
       "                <tr>\n",
       "                        <th id=\"T_41736ac6_159c_11ea_adb8_3c6aa71dd48alevel0_row0\" class=\"row_heading level0 row0\" >count</th>\n",
       "                        <td id=\"T_41736ac6_159c_11ea_adb8_3c6aa71dd48arow0_col0\" class=\"data row0 col0\" >200.0</td>\n",
       "                        <td id=\"T_41736ac6_159c_11ea_adb8_3c6aa71dd48arow0_col1\" class=\"data row0 col1\" >200.0</td>\n",
       "                        <td id=\"T_41736ac6_159c_11ea_adb8_3c6aa71dd48arow0_col2\" class=\"data row0 col2\" >200.0</td>\n",
       "                        <td id=\"T_41736ac6_159c_11ea_adb8_3c6aa71dd48arow0_col3\" class=\"data row0 col3\" >200.0</td>\n",
       "                        <td id=\"T_41736ac6_159c_11ea_adb8_3c6aa71dd48arow0_col4\" class=\"data row0 col4\" >200.0</td>\n",
       "            </tr>\n",
       "            <tr>\n",
       "                        <th id=\"T_41736ac6_159c_11ea_adb8_3c6aa71dd48alevel0_row1\" class=\"row_heading level0 row1\" >mean</th>\n",
       "                        <td id=\"T_41736ac6_159c_11ea_adb8_3c6aa71dd48arow1_col0\" class=\"data row1 col0\" >14,009.139449999991</td>\n",
       "                        <td id=\"T_41736ac6_159c_11ea_adb8_3c6aa71dd48arow1_col1\" class=\"data row1 col1\" >4.733776900713935e-06</td>\n",
       "                        <td id=\"T_41736ac6_159c_11ea_adb8_3c6aa71dd48arow1_col2\" class=\"data row1 col2\" >0.06631447246906692</td>\n",
       "                        <td id=\"T_41736ac6_159c_11ea_adb8_3c6aa71dd48arow1_col3\" class=\"data row1 col3\" >19.89434174072008</td>\n",
       "                        <td id=\"T_41736ac6_159c_11ea_adb8_3c6aa71dd48arow1_col4\" class=\"data row1 col4\" >4.616020772103552</td>\n",
       "            </tr>\n",
       "            <tr>\n",
       "                        <th id=\"T_41736ac6_159c_11ea_adb8_3c6aa71dd48alevel0_row2\" class=\"row_heading level0 row2\" >std</th>\n",
       "                        <td id=\"T_41736ac6_159c_11ea_adb8_3c6aa71dd48arow2_col0\" class=\"data row2 col0\" >306.1143116897739</td>\n",
       "                        <td id=\"T_41736ac6_159c_11ea_adb8_3c6aa71dd48arow2_col1\" class=\"data row2 col1\" >7.964356052143153e-07</td>\n",
       "                        <td id=\"T_41736ac6_159c_11ea_adb8_3c6aa71dd48arow2_col2\" class=\"data row2 col2\" >0.01122724642456786</td>\n",
       "                        <td id=\"T_41736ac6_159c_11ea_adb8_3c6aa71dd48arow2_col3\" class=\"data row2 col3\" >3.3681739273703575</td>\n",
       "                        <td id=\"T_41736ac6_159c_11ea_adb8_3c6aa71dd48arow2_col4\" class=\"data row2 col4\" >5.749513625115137</td>\n",
       "            </tr>\n",
       "            <tr>\n",
       "                        <th id=\"T_41736ac6_159c_11ea_adb8_3c6aa71dd48alevel0_row3\" class=\"row_heading level0 row3\" >min</th>\n",
       "                        <td id=\"T_41736ac6_159c_11ea_adb8_3c6aa71dd48arow3_col0\" class=\"data row3 col0\" >13,146.41</td>\n",
       "                        <td id=\"T_41736ac6_159c_11ea_adb8_3c6aa71dd48arow3_col1\" class=\"data row3 col1\" >3.457489372211597e-06</td>\n",
       "                        <td id=\"T_41736ac6_159c_11ea_adb8_3c6aa71dd48arow3_col2\" class=\"data row3 col2\" >0.048125036596069266</td>\n",
       "                        <td id=\"T_41736ac6_159c_11ea_adb8_3c6aa71dd48arow3_col3\" class=\"data row3 col3\" >14.43751097882078</td>\n",
       "                        <td id=\"T_41736ac6_159c_11ea_adb8_3c6aa71dd48arow3_col4\" class=\"data row3 col4\" >0.0</td>\n",
       "            </tr>\n",
       "            <tr>\n",
       "                        <th id=\"T_41736ac6_159c_11ea_adb8_3c6aa71dd48alevel0_row4\" class=\"row_heading level0 row4\" >10%</th>\n",
       "                        <td id=\"T_41736ac6_159c_11ea_adb8_3c6aa71dd48arow4_col0\" class=\"data row4 col0\" >13,625.243999999999</td>\n",
       "                        <td id=\"T_41736ac6_159c_11ea_adb8_3c6aa71dd48arow4_col1\" class=\"data row4 col1\" >3.751616072278209e-06</td>\n",
       "                        <td id=\"T_41736ac6_159c_11ea_adb8_3c6aa71dd48arow4_col2\" class=\"data row4 col2\" >0.05163215236319252</td>\n",
       "                        <td id=\"T_41736ac6_159c_11ea_adb8_3c6aa71dd48arow4_col3\" class=\"data row4 col3\" >15.489645708957754</td>\n",
       "                        <td id=\"T_41736ac6_159c_11ea_adb8_3c6aa71dd48arow4_col4\" class=\"data row4 col4\" >0.0</td>\n",
       "            </tr>\n",
       "            <tr>\n",
       "                        <th id=\"T_41736ac6_159c_11ea_adb8_3c6aa71dd48alevel0_row5\" class=\"row_heading level0 row5\" >25%</th>\n",
       "                        <td id=\"T_41736ac6_159c_11ea_adb8_3c6aa71dd48arow5_col0\" class=\"data row5 col0\" >13,770.5</td>\n",
       "                        <td id=\"T_41736ac6_159c_11ea_adb8_3c6aa71dd48arow5_col1\" class=\"data row5 col1\" >4.070763967315766e-06</td>\n",
       "                        <td id=\"T_41736ac6_159c_11ea_adb8_3c6aa71dd48arow5_col2\" class=\"data row5 col2\" >0.056643316899269824</td>\n",
       "                        <td id=\"T_41736ac6_159c_11ea_adb8_3c6aa71dd48arow5_col3\" class=\"data row5 col3\" >16.99299506978095</td>\n",
       "                        <td id=\"T_41736ac6_159c_11ea_adb8_3c6aa71dd48arow5_col4\" class=\"data row5 col4\" >0.0</td>\n",
       "            </tr>\n",
       "            <tr>\n",
       "                        <th id=\"T_41736ac6_159c_11ea_adb8_3c6aa71dd48alevel0_row6\" class=\"row_heading level0 row6\" >50%</th>\n",
       "                        <td id=\"T_41736ac6_159c_11ea_adb8_3c6aa71dd48arow6_col0\" class=\"data row6 col0\" >14,017.295</td>\n",
       "                        <td id=\"T_41736ac6_159c_11ea_adb8_3c6aa71dd48arow6_col1\" class=\"data row6 col1\" >4.601105829666438e-06</td>\n",
       "                        <td id=\"T_41736ac6_159c_11ea_adb8_3c6aa71dd48arow6_col2\" class=\"data row6 col2\" >0.06587384304670155</td>\n",
       "                        <td id=\"T_41736ac6_159c_11ea_adb8_3c6aa71dd48arow6_col3\" class=\"data row6 col3\" >19.762152914010464</td>\n",
       "                        <td id=\"T_41736ac6_159c_11ea_adb8_3c6aa71dd48arow6_col4\" class=\"data row6 col4\" >0.0</td>\n",
       "            </tr>\n",
       "            <tr>\n",
       "                        <th id=\"T_41736ac6_159c_11ea_adb8_3c6aa71dd48alevel0_row7\" class=\"row_heading level0 row7\" >75%</th>\n",
       "                        <td id=\"T_41736ac6_159c_11ea_adb8_3c6aa71dd48arow7_col0\" class=\"data row7 col0\" >14,245.625</td>\n",
       "                        <td id=\"T_41736ac6_159c_11ea_adb8_3c6aa71dd48arow7_col1\" class=\"data row7 col1\" >5.417230193604879e-06</td>\n",
       "                        <td id=\"T_41736ac6_159c_11ea_adb8_3c6aa71dd48arow7_col2\" class=\"data row7 col2\" >0.07554266561142325</td>\n",
       "                        <td id=\"T_41736ac6_159c_11ea_adb8_3c6aa71dd48arow7_col3\" class=\"data row7 col3\" >22.662799683426982</td>\n",
       "                        <td id=\"T_41736ac6_159c_11ea_adb8_3c6aa71dd48arow7_col4\" class=\"data row7 col4\" >11.292483543448668</td>\n",
       "            </tr>\n",
       "            <tr>\n",
       "                        <th id=\"T_41736ac6_159c_11ea_adb8_3c6aa71dd48alevel0_row8\" class=\"row_heading level0 row8\" >80%</th>\n",
       "                        <td id=\"T_41736ac6_159c_11ea_adb8_3c6aa71dd48arow8_col0\" class=\"data row8 col0\" >14,314.96</td>\n",
       "                        <td id=\"T_41736ac6_159c_11ea_adb8_3c6aa71dd48arow8_col1\" class=\"data row8 col1\" >5.642948118338416e-06</td>\n",
       "                        <td id=\"T_41736ac6_159c_11ea_adb8_3c6aa71dd48arow8_col2\" class=\"data row8 col2\" >0.07775821118754153</td>\n",
       "                        <td id=\"T_41736ac6_159c_11ea_adb8_3c6aa71dd48arow8_col3\" class=\"data row8 col3\" >23.32746335626246</td>\n",
       "                        <td id=\"T_41736ac6_159c_11ea_adb8_3c6aa71dd48arow8_col4\" class=\"data row8 col4\" >11.659479152429249</td>\n",
       "            </tr>\n",
       "            <tr>\n",
       "                        <th id=\"T_41736ac6_159c_11ea_adb8_3c6aa71dd48alevel0_row9\" class=\"row_heading level0 row9\" >95%</th>\n",
       "                        <td id=\"T_41736ac6_159c_11ea_adb8_3c6aa71dd48arow9_col0\" class=\"data row9 col0\" >14,480.9295</td>\n",
       "                        <td id=\"T_41736ac6_159c_11ea_adb8_3c6aa71dd48arow9_col1\" class=\"data row9 col1\" >6.1229905797942885e-06</td>\n",
       "                        <td id=\"T_41736ac6_159c_11ea_adb8_3c6aa71dd48arow9_col2\" class=\"data row9 col2\" >0.08455907240657834</td>\n",
       "                        <td id=\"T_41736ac6_159c_11ea_adb8_3c6aa71dd48arow9_col3\" class=\"data row9 col3\" >25.3677217219735</td>\n",
       "                        <td id=\"T_41736ac6_159c_11ea_adb8_3c6aa71dd48arow9_col4\" class=\"data row9 col4\" >12.68386086098675</td>\n",
       "            </tr>\n",
       "            <tr>\n",
       "                        <th id=\"T_41736ac6_159c_11ea_adb8_3c6aa71dd48alevel0_row10\" class=\"row_heading level0 row10\" >99%</th>\n",
       "                        <td id=\"T_41736ac6_159c_11ea_adb8_3c6aa71dd48arow10_col0\" class=\"data row10 col0\" >14,632.5107</td>\n",
       "                        <td id=\"T_41736ac6_159c_11ea_adb8_3c6aa71dd48arow10_col1\" class=\"data row10 col1\" >6.1229905797942885e-06</td>\n",
       "                        <td id=\"T_41736ac6_159c_11ea_adb8_3c6aa71dd48arow10_col2\" class=\"data row10 col2\" >0.08746717637336765</td>\n",
       "                        <td id=\"T_41736ac6_159c_11ea_adb8_3c6aa71dd48arow10_col3\" class=\"data row10 col3\" >26.240152912010295</td>\n",
       "                        <td id=\"T_41736ac6_159c_11ea_adb8_3c6aa71dd48arow10_col4\" class=\"data row10 col4\" >13.120076456005147</td>\n",
       "            </tr>\n",
       "            <tr>\n",
       "                        <th id=\"T_41736ac6_159c_11ea_adb8_3c6aa71dd48alevel0_row11\" class=\"row_heading level0 row11\" >max</th>\n",
       "                        <td id=\"T_41736ac6_159c_11ea_adb8_3c6aa71dd48arow11_col0\" class=\"data row11 col0\" >14,660.29</td>\n",
       "                        <td id=\"T_41736ac6_159c_11ea_adb8_3c6aa71dd48arow11_col1\" class=\"data row11 col1\" >6.1229905797942885e-06</td>\n",
       "                        <td id=\"T_41736ac6_159c_11ea_adb8_3c6aa71dd48arow11_col2\" class=\"data row11 col2\" >0.0879971714165716</td>\n",
       "                        <td id=\"T_41736ac6_159c_11ea_adb8_3c6aa71dd48arow11_col3\" class=\"data row11 col3\" >26.39915142497148</td>\n",
       "                        <td id=\"T_41736ac6_159c_11ea_adb8_3c6aa71dd48arow11_col4\" class=\"data row11 col4\" >13.19957571248574</td>\n",
       "            </tr>\n",
       "    </tbody></table>"
      ],
      "text/plain": [
       "<pandas.io.formats.style.Styler at 0x200e4215240>"
      ]
     },
     "execution_count": 25,
     "metadata": {},
     "output_type": "execute_result"
    }
   ],
   "source": [
    "#percentile list\n",
    "perc = [.10,.25,.50,.75,.80,.95,.99]\n",
    "include = ['object','float','int']\n",
    "df.describe(percentiles=perc,include=include).style.format('{:,}')"
   ]
  },
  {
   "cell_type": "markdown",
   "metadata": {},
   "source": [
    "**Creat a Loop**"
   ]
  },
  {
   "cell_type": "code",
   "execution_count": 26,
   "metadata": {},
   "outputs": [],
   "source": [
    "#define a list to keep all the results from each simulation that we want to analyze\n",
    "all_stats = []\n",
    "\n",
    "#Loop through many simulations\n",
    "for i in range(num_simulations):\n",
    "    \n",
    "    #Choose random inputs for the sales targets and percent to target\n",
    "    btc_price=np.random.normal(avg,std_dtv,num_reps).round(2)\n",
    "    \n",
    "    #Build the dataframe based on the inputs and number of reps\n",
    "    df = pd.DataFrame(data={'Btc_price':btc_price})\n",
    "    \n",
    "    #Back into the daily output using the formule\n",
    "    daily_output_summary = []\n",
    "    daily_output=1.2756230374571436e-05/2\n",
    "    for day in range(200):\n",
    "        if day % 14 == 0:\n",
    "            daily_output = daily_output * 0.96\n",
    "        \n",
    "        daily_output_summary.append(daily_output)\n",
    "    \n",
    "    df['Daily_output']=daily_output_summary\n",
    "    \n",
    "    #Determine the Revenu and Cloud_price and calculate it\n",
    "    df['Revenu']=df['Btc_price']*df['Daily_output']\n",
    "    df['Cloud_price']=df['Revenu']*300\n",
    "    \n",
    "    #Determine the Reimbusement and calculate it\n",
    "    reimbursement_s = []\n",
    "\n",
    "    for day in range(200):\n",
    "        if day <= 120:\n",
    "            reimbursement  = 0\n",
    "        if day> 120:\n",
    "            reimbursement = cloud_price[day-120]*0.5\n",
    "\n",
    "        reimbursement_s.append(reimbursement)\n",
    "    df['Reimbursement']=reimbursement_s\n",
    "    \n",
    "    #We want to track btc price, daily output, cloud mining price and reimbursement over all the simulations\n",
    "    all_stats.append([df['Btc_price'].max().round(2),\n",
    "                     df['Daily_output'].max().round(8),\n",
    "                     df['Cloud_price'].min().round(2),\n",
    "                     df['Revenu'].min().round(8),\n",
    "                     df['Reimbursement'].max().round(8)])"
   ]
  },
  {
   "cell_type": "code",
   "execution_count": 27,
   "metadata": {},
   "outputs": [],
   "source": [
    "result_df = pd.DataFrame.from_records(all_stats,columns=['Btc_price',\n",
    "                                                        'Daily_output',\n",
    "                                                        'Cloud_price',\n",
    "                                                         'Revenu',\n",
    "                                                        'Reimbursement'])"
   ]
  },
  {
   "cell_type": "code",
   "execution_count": 28,
   "metadata": {
    "scrolled": false
   },
   "outputs": [
    {
     "data": {
      "text/html": [
       "<div>\n",
       "<style scoped>\n",
       "    .dataframe tbody tr th:only-of-type {\n",
       "        vertical-align: middle;\n",
       "    }\n",
       "\n",
       "    .dataframe tbody tr th {\n",
       "        vertical-align: top;\n",
       "    }\n",
       "\n",
       "    .dataframe thead th {\n",
       "        text-align: right;\n",
       "    }\n",
       "</style>\n",
       "<table border=\"1\" class=\"dataframe\">\n",
       "  <thead>\n",
       "    <tr style=\"text-align: right;\">\n",
       "      <th></th>\n",
       "      <th>Btc_price</th>\n",
       "      <th>Daily_output</th>\n",
       "      <th>Cloud_price</th>\n",
       "      <th>Revenu</th>\n",
       "      <th>Reimbursement</th>\n",
       "    </tr>\n",
       "  </thead>\n",
       "  <tbody>\n",
       "    <tr>\n",
       "      <th>0</th>\n",
       "      <td>15029.82</td>\n",
       "      <td>0.000006</td>\n",
       "      <td>14.53</td>\n",
       "      <td>0.048442</td>\n",
       "      <td>13.199576</td>\n",
       "    </tr>\n",
       "    <tr>\n",
       "      <th>1</th>\n",
       "      <td>14822.73</td>\n",
       "      <td>0.000006</td>\n",
       "      <td>14.40</td>\n",
       "      <td>0.048015</td>\n",
       "      <td>13.199576</td>\n",
       "    </tr>\n",
       "    <tr>\n",
       "      <th>2</th>\n",
       "      <td>14866.79</td>\n",
       "      <td>0.000006</td>\n",
       "      <td>14.54</td>\n",
       "      <td>0.048478</td>\n",
       "      <td>13.199576</td>\n",
       "    </tr>\n",
       "    <tr>\n",
       "      <th>3</th>\n",
       "      <td>14865.46</td>\n",
       "      <td>0.000006</td>\n",
       "      <td>14.13</td>\n",
       "      <td>0.047098</td>\n",
       "      <td>13.199576</td>\n",
       "    </tr>\n",
       "    <tr>\n",
       "      <th>4</th>\n",
       "      <td>14693.40</td>\n",
       "      <td>0.000006</td>\n",
       "      <td>14.14</td>\n",
       "      <td>0.047149</td>\n",
       "      <td>13.199576</td>\n",
       "    </tr>\n",
       "  </tbody>\n",
       "</table>\n",
       "</div>"
      ],
      "text/plain": [
       "   Btc_price  Daily_output  Cloud_price    Revenu  Reimbursement\n",
       "0   15029.82      0.000006        14.53  0.048442      13.199576\n",
       "1   14822.73      0.000006        14.40  0.048015      13.199576\n",
       "2   14866.79      0.000006        14.54  0.048478      13.199576\n",
       "3   14865.46      0.000006        14.13  0.047098      13.199576\n",
       "4   14693.40      0.000006        14.14  0.047149      13.199576"
      ]
     },
     "execution_count": 28,
     "metadata": {},
     "output_type": "execute_result"
    }
   ],
   "source": [
    "result_df.head()"
   ]
  },
  {
   "cell_type": "code",
   "execution_count": 29,
   "metadata": {},
   "outputs": [
    {
     "data": {
      "text/html": [
       "<div>\n",
       "<style scoped>\n",
       "    .dataframe tbody tr th:only-of-type {\n",
       "        vertical-align: middle;\n",
       "    }\n",
       "\n",
       "    .dataframe tbody tr th {\n",
       "        vertical-align: top;\n",
       "    }\n",
       "\n",
       "    .dataframe thead th {\n",
       "        text-align: right;\n",
       "    }\n",
       "</style>\n",
       "<table border=\"1\" class=\"dataframe\">\n",
       "  <thead>\n",
       "    <tr style=\"text-align: right;\">\n",
       "      <th></th>\n",
       "      <th>Btc_price</th>\n",
       "      <th>Daily_output</th>\n",
       "      <th>Cloud_price</th>\n",
       "      <th>Revenu</th>\n",
       "      <th>Reimbursement</th>\n",
       "    </tr>\n",
       "  </thead>\n",
       "  <tbody>\n",
       "    <tr>\n",
       "      <th>995</th>\n",
       "      <td>14880.08</td>\n",
       "      <td>0.000006</td>\n",
       "      <td>14.03</td>\n",
       "      <td>0.046757</td>\n",
       "      <td>13.199576</td>\n",
       "    </tr>\n",
       "    <tr>\n",
       "      <th>996</th>\n",
       "      <td>14889.78</td>\n",
       "      <td>0.000006</td>\n",
       "      <td>14.19</td>\n",
       "      <td>0.047316</td>\n",
       "      <td>13.199576</td>\n",
       "    </tr>\n",
       "    <tr>\n",
       "      <th>997</th>\n",
       "      <td>14684.66</td>\n",
       "      <td>0.000006</td>\n",
       "      <td>14.34</td>\n",
       "      <td>0.047812</td>\n",
       "      <td>13.199576</td>\n",
       "    </tr>\n",
       "    <tr>\n",
       "      <th>998</th>\n",
       "      <td>15100.28</td>\n",
       "      <td>0.000006</td>\n",
       "      <td>13.82</td>\n",
       "      <td>0.046070</td>\n",
       "      <td>13.199576</td>\n",
       "    </tr>\n",
       "    <tr>\n",
       "      <th>999</th>\n",
       "      <td>14902.68</td>\n",
       "      <td>0.000006</td>\n",
       "      <td>14.02</td>\n",
       "      <td>0.046731</td>\n",
       "      <td>13.199576</td>\n",
       "    </tr>\n",
       "  </tbody>\n",
       "</table>\n",
       "</div>"
      ],
      "text/plain": [
       "     Btc_price  Daily_output  Cloud_price    Revenu  Reimbursement\n",
       "995   14880.08      0.000006        14.03  0.046757      13.199576\n",
       "996   14889.78      0.000006        14.19  0.047316      13.199576\n",
       "997   14684.66      0.000006        14.34  0.047812      13.199576\n",
       "998   15100.28      0.000006        13.82  0.046070      13.199576\n",
       "999   14902.68      0.000006        14.02  0.046731      13.199576"
      ]
     },
     "execution_count": 29,
     "metadata": {},
     "output_type": "execute_result"
    }
   ],
   "source": [
    "result_df.tail()"
   ]
  },
  {
   "cell_type": "code",
   "execution_count": 30,
   "metadata": {},
   "outputs": [
    {
     "data": {
      "text/plain": [
       "0      13.199576\n",
       "1      13.199576\n",
       "2      13.199576\n",
       "3      13.199576\n",
       "4      13.199576\n",
       "5      13.199576\n",
       "6      13.199576\n",
       "7      13.199576\n",
       "8      13.199576\n",
       "9      13.199576\n",
       "10     13.199576\n",
       "11     13.199576\n",
       "12     13.199576\n",
       "13     13.199576\n",
       "14     13.199576\n",
       "15     13.199576\n",
       "16     13.199576\n",
       "17     13.199576\n",
       "18     13.199576\n",
       "19     13.199576\n",
       "20     13.199576\n",
       "21     13.199576\n",
       "22     13.199576\n",
       "23     13.199576\n",
       "24     13.199576\n",
       "25     13.199576\n",
       "26     13.199576\n",
       "27     13.199576\n",
       "28     13.199576\n",
       "29     13.199576\n",
       "         ...    \n",
       "970    13.199576\n",
       "971    13.199576\n",
       "972    13.199576\n",
       "973    13.199576\n",
       "974    13.199576\n",
       "975    13.199576\n",
       "976    13.199576\n",
       "977    13.199576\n",
       "978    13.199576\n",
       "979    13.199576\n",
       "980    13.199576\n",
       "981    13.199576\n",
       "982    13.199576\n",
       "983    13.199576\n",
       "984    13.199576\n",
       "985    13.199576\n",
       "986    13.199576\n",
       "987    13.199576\n",
       "988    13.199576\n",
       "989    13.199576\n",
       "990    13.199576\n",
       "991    13.199576\n",
       "992    13.199576\n",
       "993    13.199576\n",
       "994    13.199576\n",
       "995    13.199576\n",
       "996    13.199576\n",
       "997    13.199576\n",
       "998    13.199576\n",
       "999    13.199576\n",
       "Name: Reimbursement, Length: 1000, dtype: float64"
      ]
     },
     "execution_count": 30,
     "metadata": {},
     "output_type": "execute_result"
    }
   ],
   "source": [
    "result_df['Reimbursement']"
   ]
  },
  {
   "cell_type": "code",
   "execution_count": 31,
   "metadata": {},
   "outputs": [
    {
     "data": {
      "text/html": [
       "<div>\n",
       "<style scoped>\n",
       "    .dataframe tbody tr th:only-of-type {\n",
       "        vertical-align: middle;\n",
       "    }\n",
       "\n",
       "    .dataframe tbody tr th {\n",
       "        vertical-align: top;\n",
       "    }\n",
       "\n",
       "    .dataframe thead th {\n",
       "        text-align: right;\n",
       "    }\n",
       "</style>\n",
       "<table border=\"1\" class=\"dataframe\">\n",
       "  <thead>\n",
       "    <tr style=\"text-align: right;\">\n",
       "      <th></th>\n",
       "      <th>Btc_price</th>\n",
       "      <th>Daily_output</th>\n",
       "      <th>Cloud_price</th>\n",
       "      <th>Revenu</th>\n",
       "      <th>Reimbursement</th>\n",
       "    </tr>\n",
       "  </thead>\n",
       "  <tbody>\n",
       "    <tr>\n",
       "      <th>995</th>\n",
       "      <td>14880.08</td>\n",
       "      <td>0.000006</td>\n",
       "      <td>14.03</td>\n",
       "      <td>0.046757</td>\n",
       "      <td>13.199576</td>\n",
       "    </tr>\n",
       "    <tr>\n",
       "      <th>996</th>\n",
       "      <td>14889.78</td>\n",
       "      <td>0.000006</td>\n",
       "      <td>14.19</td>\n",
       "      <td>0.047316</td>\n",
       "      <td>13.199576</td>\n",
       "    </tr>\n",
       "    <tr>\n",
       "      <th>997</th>\n",
       "      <td>14684.66</td>\n",
       "      <td>0.000006</td>\n",
       "      <td>14.34</td>\n",
       "      <td>0.047812</td>\n",
       "      <td>13.199576</td>\n",
       "    </tr>\n",
       "    <tr>\n",
       "      <th>998</th>\n",
       "      <td>15100.28</td>\n",
       "      <td>0.000006</td>\n",
       "      <td>13.82</td>\n",
       "      <td>0.046070</td>\n",
       "      <td>13.199576</td>\n",
       "    </tr>\n",
       "    <tr>\n",
       "      <th>999</th>\n",
       "      <td>14902.68</td>\n",
       "      <td>0.000006</td>\n",
       "      <td>14.02</td>\n",
       "      <td>0.046731</td>\n",
       "      <td>13.199576</td>\n",
       "    </tr>\n",
       "  </tbody>\n",
       "</table>\n",
       "</div>"
      ],
      "text/plain": [
       "     Btc_price  Daily_output  Cloud_price    Revenu  Reimbursement\n",
       "995   14880.08      0.000006        14.03  0.046757      13.199576\n",
       "996   14889.78      0.000006        14.19  0.047316      13.199576\n",
       "997   14684.66      0.000006        14.34  0.047812      13.199576\n",
       "998   15100.28      0.000006        13.82  0.046070      13.199576\n",
       "999   14902.68      0.000006        14.02  0.046731      13.199576"
      ]
     },
     "execution_count": 31,
     "metadata": {},
     "output_type": "execute_result"
    }
   ],
   "source": [
    "result_df.tail()"
   ]
  },
  {
   "cell_type": "code",
   "execution_count": 32,
   "metadata": {
    "scrolled": true
   },
   "outputs": [
    {
     "data": {
      "text/html": [
       "<div>\n",
       "<style scoped>\n",
       "    .dataframe tbody tr th:only-of-type {\n",
       "        vertical-align: middle;\n",
       "    }\n",
       "\n",
       "    .dataframe tbody tr th {\n",
       "        vertical-align: top;\n",
       "    }\n",
       "\n",
       "    .dataframe thead th {\n",
       "        text-align: right;\n",
       "    }\n",
       "</style>\n",
       "<table border=\"1\" class=\"dataframe\">\n",
       "  <thead>\n",
       "    <tr style=\"text-align: right;\">\n",
       "      <th></th>\n",
       "      <th>Btc_price</th>\n",
       "      <th>Daily_output</th>\n",
       "      <th>Cloud_price</th>\n",
       "      <th>Revenu</th>\n",
       "      <th>Reimbursement</th>\n",
       "    </tr>\n",
       "  </thead>\n",
       "  <tbody>\n",
       "    <tr>\n",
       "      <th>count</th>\n",
       "      <td>1000.000000</td>\n",
       "      <td>1.000000e+03</td>\n",
       "      <td>1000.000000</td>\n",
       "      <td>1000.000000</td>\n",
       "      <td>1.000000e+03</td>\n",
       "    </tr>\n",
       "    <tr>\n",
       "      <th>mean</th>\n",
       "      <td>14859.171440</td>\n",
       "      <td>6.120000e-06</td>\n",
       "      <td>14.186290</td>\n",
       "      <td>0.047288</td>\n",
       "      <td>1.319958e+01</td>\n",
       "    </tr>\n",
       "    <tr>\n",
       "      <th>std</th>\n",
       "      <td>121.249191</td>\n",
       "      <td>6.779654e-20</td>\n",
       "      <td>0.214882</td>\n",
       "      <td>0.000717</td>\n",
       "      <td>1.404024e-13</td>\n",
       "    </tr>\n",
       "    <tr>\n",
       "      <th>min</th>\n",
       "      <td>14566.780000</td>\n",
       "      <td>6.120000e-06</td>\n",
       "      <td>13.340000</td>\n",
       "      <td>0.044453</td>\n",
       "      <td>1.319958e+01</td>\n",
       "    </tr>\n",
       "    <tr>\n",
       "      <th>10%</th>\n",
       "      <td>14711.269000</td>\n",
       "      <td>6.120000e-06</td>\n",
       "      <td>13.919000</td>\n",
       "      <td>0.046384</td>\n",
       "      <td>1.319958e+01</td>\n",
       "    </tr>\n",
       "    <tr>\n",
       "      <th>25%</th>\n",
       "      <td>14771.922500</td>\n",
       "      <td>6.120000e-06</td>\n",
       "      <td>14.030000</td>\n",
       "      <td>0.046779</td>\n",
       "      <td>1.319958e+01</td>\n",
       "    </tr>\n",
       "    <tr>\n",
       "      <th>50%</th>\n",
       "      <td>14846.600000</td>\n",
       "      <td>6.120000e-06</td>\n",
       "      <td>14.200000</td>\n",
       "      <td>0.047337</td>\n",
       "      <td>1.319958e+01</td>\n",
       "    </tr>\n",
       "    <tr>\n",
       "      <th>75%</th>\n",
       "      <td>14927.397500</td>\n",
       "      <td>6.120000e-06</td>\n",
       "      <td>14.340000</td>\n",
       "      <td>0.047801</td>\n",
       "      <td>1.319958e+01</td>\n",
       "    </tr>\n",
       "    <tr>\n",
       "      <th>80%</th>\n",
       "      <td>14949.708000</td>\n",
       "      <td>6.120000e-06</td>\n",
       "      <td>14.370000</td>\n",
       "      <td>0.047900</td>\n",
       "      <td>1.319958e+01</td>\n",
       "    </tr>\n",
       "    <tr>\n",
       "      <th>95%</th>\n",
       "      <td>15076.840500</td>\n",
       "      <td>6.120000e-06</td>\n",
       "      <td>14.520000</td>\n",
       "      <td>0.048398</td>\n",
       "      <td>1.319958e+01</td>\n",
       "    </tr>\n",
       "    <tr>\n",
       "      <th>99%</th>\n",
       "      <td>15200.829800</td>\n",
       "      <td>6.120000e-06</td>\n",
       "      <td>14.630000</td>\n",
       "      <td>0.048763</td>\n",
       "      <td>1.319958e+01</td>\n",
       "    </tr>\n",
       "    <tr>\n",
       "      <th>max</th>\n",
       "      <td>15312.370000</td>\n",
       "      <td>6.120000e-06</td>\n",
       "      <td>14.750000</td>\n",
       "      <td>0.049177</td>\n",
       "      <td>1.319958e+01</td>\n",
       "    </tr>\n",
       "  </tbody>\n",
       "</table>\n",
       "</div>"
      ],
      "text/plain": [
       "          Btc_price  Daily_output  Cloud_price       Revenu  Reimbursement\n",
       "count   1000.000000  1.000000e+03  1000.000000  1000.000000   1.000000e+03\n",
       "mean   14859.171440  6.120000e-06    14.186290     0.047288   1.319958e+01\n",
       "std      121.249191  6.779654e-20     0.214882     0.000717   1.404024e-13\n",
       "min    14566.780000  6.120000e-06    13.340000     0.044453   1.319958e+01\n",
       "10%    14711.269000  6.120000e-06    13.919000     0.046384   1.319958e+01\n",
       "25%    14771.922500  6.120000e-06    14.030000     0.046779   1.319958e+01\n",
       "50%    14846.600000  6.120000e-06    14.200000     0.047337   1.319958e+01\n",
       "75%    14927.397500  6.120000e-06    14.340000     0.047801   1.319958e+01\n",
       "80%    14949.708000  6.120000e-06    14.370000     0.047900   1.319958e+01\n",
       "95%    15076.840500  6.120000e-06    14.520000     0.048398   1.319958e+01\n",
       "99%    15200.829800  6.120000e-06    14.630000     0.048763   1.319958e+01\n",
       "max    15312.370000  6.120000e-06    14.750000     0.049177   1.319958e+01"
      ]
     },
     "execution_count": 32,
     "metadata": {},
     "output_type": "execute_result"
    }
   ],
   "source": [
    "result_df.describe(percentiles=perc,include=include)"
   ]
  },
  {
   "cell_type": "code",
   "execution_count": 33,
   "metadata": {},
   "outputs": [
    {
     "data": {
      "text/plain": [
       "<matplotlib.axes._subplots.AxesSubplot at 0x200e5ca65f8>"
      ]
     },
     "execution_count": 33,
     "metadata": {},
     "output_type": "execute_result"
    },
    {
     "data": {
      "image/png": "[encoded data removed]",
      "text/plain": [
       "<Figure size 432x288 with 1 Axes>"
      ]
     },
     "metadata": {
      "needs_background": "light"
     },
     "output_type": "display_data"
    }
   ],
   "source": [
    "result_df['Cloud_price'].plot(kind='Hist',title='Cloud Price')"
   ]
  },
  {
   "cell_type": "code",
   "execution_count": 34,
   "metadata": {
    "scrolled": true
   },
   "outputs": [
    {
     "data": {
      "text/html": [
       "<div>\n",
       "<style scoped>\n",
       "    .dataframe tbody tr th:only-of-type {\n",
       "        vertical-align: middle;\n",
       "    }\n",
       "\n",
       "    .dataframe tbody tr th {\n",
       "        vertical-align: top;\n",
       "    }\n",
       "\n",
       "    .dataframe thead th {\n",
       "        text-align: right;\n",
       "    }\n",
       "</style>\n",
       "<table border=\"1\" class=\"dataframe\">\n",
       "  <thead>\n",
       "    <tr style=\"text-align: right;\">\n",
       "      <th></th>\n",
       "      <th>Btc_price</th>\n",
       "      <th>Daily_output</th>\n",
       "      <th>Cloud_price</th>\n",
       "      <th>Revenu</th>\n",
       "      <th>Reimbursement</th>\n",
       "    </tr>\n",
       "  </thead>\n",
       "  <tbody>\n",
       "    <tr>\n",
       "      <th>0</th>\n",
       "      <td>15029.82</td>\n",
       "      <td>0.000006</td>\n",
       "      <td>14.53</td>\n",
       "      <td>0.048442</td>\n",
       "      <td>13.199576</td>\n",
       "    </tr>\n",
       "    <tr>\n",
       "      <th>1</th>\n",
       "      <td>14822.73</td>\n",
       "      <td>0.000006</td>\n",
       "      <td>14.40</td>\n",
       "      <td>0.048015</td>\n",
       "      <td>13.199576</td>\n",
       "    </tr>\n",
       "    <tr>\n",
       "      <th>2</th>\n",
       "      <td>14866.79</td>\n",
       "      <td>0.000006</td>\n",
       "      <td>14.54</td>\n",
       "      <td>0.048478</td>\n",
       "      <td>13.199576</td>\n",
       "    </tr>\n",
       "    <tr>\n",
       "      <th>3</th>\n",
       "      <td>14865.46</td>\n",
       "      <td>0.000006</td>\n",
       "      <td>14.13</td>\n",
       "      <td>0.047098</td>\n",
       "      <td>13.199576</td>\n",
       "    </tr>\n",
       "    <tr>\n",
       "      <th>4</th>\n",
       "      <td>14693.40</td>\n",
       "      <td>0.000006</td>\n",
       "      <td>14.14</td>\n",
       "      <td>0.047149</td>\n",
       "      <td>13.199576</td>\n",
       "    </tr>\n",
       "    <tr>\n",
       "      <th>5</th>\n",
       "      <td>14956.43</td>\n",
       "      <td>0.000006</td>\n",
       "      <td>14.02</td>\n",
       "      <td>0.046743</td>\n",
       "      <td>13.199576</td>\n",
       "    </tr>\n",
       "    <tr>\n",
       "      <th>6</th>\n",
       "      <td>14786.22</td>\n",
       "      <td>0.000006</td>\n",
       "      <td>14.10</td>\n",
       "      <td>0.046995</td>\n",
       "      <td>13.199576</td>\n",
       "    </tr>\n",
       "    <tr>\n",
       "      <th>7</th>\n",
       "      <td>15027.70</td>\n",
       "      <td>0.000006</td>\n",
       "      <td>14.58</td>\n",
       "      <td>0.048597</td>\n",
       "      <td>13.199576</td>\n",
       "    </tr>\n",
       "    <tr>\n",
       "      <th>8</th>\n",
       "      <td>14953.39</td>\n",
       "      <td>0.000006</td>\n",
       "      <td>14.39</td>\n",
       "      <td>0.047969</td>\n",
       "      <td>13.199576</td>\n",
       "    </tr>\n",
       "    <tr>\n",
       "      <th>9</th>\n",
       "      <td>14765.26</td>\n",
       "      <td>0.000006</td>\n",
       "      <td>13.59</td>\n",
       "      <td>0.045299</td>\n",
       "      <td>13.199576</td>\n",
       "    </tr>\n",
       "    <tr>\n",
       "      <th>10</th>\n",
       "      <td>14753.38</td>\n",
       "      <td>0.000006</td>\n",
       "      <td>14.26</td>\n",
       "      <td>0.047531</td>\n",
       "      <td>13.199576</td>\n",
       "    </tr>\n",
       "    <tr>\n",
       "      <th>11</th>\n",
       "      <td>14843.90</td>\n",
       "      <td>0.000006</td>\n",
       "      <td>14.49</td>\n",
       "      <td>0.048285</td>\n",
       "      <td>13.199576</td>\n",
       "    </tr>\n",
       "    <tr>\n",
       "      <th>12</th>\n",
       "      <td>14876.46</td>\n",
       "      <td>0.000006</td>\n",
       "      <td>14.08</td>\n",
       "      <td>0.046931</td>\n",
       "      <td>13.199576</td>\n",
       "    </tr>\n",
       "    <tr>\n",
       "      <th>13</th>\n",
       "      <td>14737.96</td>\n",
       "      <td>0.000006</td>\n",
       "      <td>14.63</td>\n",
       "      <td>0.048774</td>\n",
       "      <td>13.199576</td>\n",
       "    </tr>\n",
       "    <tr>\n",
       "      <th>14</th>\n",
       "      <td>14978.04</td>\n",
       "      <td>0.000006</td>\n",
       "      <td>14.01</td>\n",
       "      <td>0.046692</td>\n",
       "      <td>13.199576</td>\n",
       "    </tr>\n",
       "    <tr>\n",
       "      <th>15</th>\n",
       "      <td>14896.10</td>\n",
       "      <td>0.000006</td>\n",
       "      <td>14.28</td>\n",
       "      <td>0.047604</td>\n",
       "      <td>13.199576</td>\n",
       "    </tr>\n",
       "    <tr>\n",
       "      <th>16</th>\n",
       "      <td>14892.01</td>\n",
       "      <td>0.000006</td>\n",
       "      <td>14.11</td>\n",
       "      <td>0.047045</td>\n",
       "      <td>13.199576</td>\n",
       "    </tr>\n",
       "    <tr>\n",
       "      <th>17</th>\n",
       "      <td>14790.98</td>\n",
       "      <td>0.000006</td>\n",
       "      <td>14.03</td>\n",
       "      <td>0.046764</td>\n",
       "      <td>13.199576</td>\n",
       "    </tr>\n",
       "    <tr>\n",
       "      <th>18</th>\n",
       "      <td>14802.82</td>\n",
       "      <td>0.000006</td>\n",
       "      <td>14.18</td>\n",
       "      <td>0.047273</td>\n",
       "      <td>13.199576</td>\n",
       "    </tr>\n",
       "    <tr>\n",
       "      <th>19</th>\n",
       "      <td>14991.01</td>\n",
       "      <td>0.000006</td>\n",
       "      <td>14.47</td>\n",
       "      <td>0.048241</td>\n",
       "      <td>13.199576</td>\n",
       "    </tr>\n",
       "    <tr>\n",
       "      <th>20</th>\n",
       "      <td>15019.85</td>\n",
       "      <td>0.000006</td>\n",
       "      <td>14.08</td>\n",
       "      <td>0.046942</td>\n",
       "      <td>13.199576</td>\n",
       "    </tr>\n",
       "    <tr>\n",
       "      <th>21</th>\n",
       "      <td>14798.53</td>\n",
       "      <td>0.000006</td>\n",
       "      <td>14.07</td>\n",
       "      <td>0.046910</td>\n",
       "      <td>13.199576</td>\n",
       "    </tr>\n",
       "    <tr>\n",
       "      <th>22</th>\n",
       "      <td>14970.15</td>\n",
       "      <td>0.000006</td>\n",
       "      <td>14.07</td>\n",
       "      <td>0.046886</td>\n",
       "      <td>13.199576</td>\n",
       "    </tr>\n",
       "    <tr>\n",
       "      <th>23</th>\n",
       "      <td>14704.17</td>\n",
       "      <td>0.000006</td>\n",
       "      <td>14.24</td>\n",
       "      <td>0.047475</td>\n",
       "      <td>13.199576</td>\n",
       "    </tr>\n",
       "    <tr>\n",
       "      <th>24</th>\n",
       "      <td>14965.53</td>\n",
       "      <td>0.000006</td>\n",
       "      <td>14.31</td>\n",
       "      <td>0.047704</td>\n",
       "      <td>13.199576</td>\n",
       "    </tr>\n",
       "    <tr>\n",
       "      <th>25</th>\n",
       "      <td>14805.98</td>\n",
       "      <td>0.000006</td>\n",
       "      <td>14.30</td>\n",
       "      <td>0.047674</td>\n",
       "      <td>13.199576</td>\n",
       "    </tr>\n",
       "    <tr>\n",
       "      <th>26</th>\n",
       "      <td>15074.55</td>\n",
       "      <td>0.000006</td>\n",
       "      <td>14.28</td>\n",
       "      <td>0.047613</td>\n",
       "      <td>13.199576</td>\n",
       "    </tr>\n",
       "    <tr>\n",
       "      <th>27</th>\n",
       "      <td>14796.43</td>\n",
       "      <td>0.000006</td>\n",
       "      <td>14.46</td>\n",
       "      <td>0.048213</td>\n",
       "      <td>13.199576</td>\n",
       "    </tr>\n",
       "    <tr>\n",
       "      <th>28</th>\n",
       "      <td>14917.14</td>\n",
       "      <td>0.000006</td>\n",
       "      <td>14.14</td>\n",
       "      <td>0.047141</td>\n",
       "      <td>13.199576</td>\n",
       "    </tr>\n",
       "    <tr>\n",
       "      <th>29</th>\n",
       "      <td>14804.69</td>\n",
       "      <td>0.000006</td>\n",
       "      <td>14.29</td>\n",
       "      <td>0.047636</td>\n",
       "      <td>13.199576</td>\n",
       "    </tr>\n",
       "    <tr>\n",
       "      <th>...</th>\n",
       "      <td>...</td>\n",
       "      <td>...</td>\n",
       "      <td>...</td>\n",
       "      <td>...</td>\n",
       "      <td>...</td>\n",
       "    </tr>\n",
       "    <tr>\n",
       "      <th>970</th>\n",
       "      <td>14737.41</td>\n",
       "      <td>0.000006</td>\n",
       "      <td>14.06</td>\n",
       "      <td>0.046862</td>\n",
       "      <td>13.199576</td>\n",
       "    </tr>\n",
       "    <tr>\n",
       "      <th>971</th>\n",
       "      <td>14843.13</td>\n",
       "      <td>0.000006</td>\n",
       "      <td>14.51</td>\n",
       "      <td>0.048371</td>\n",
       "      <td>13.199576</td>\n",
       "    </tr>\n",
       "    <tr>\n",
       "      <th>972</th>\n",
       "      <td>14839.42</td>\n",
       "      <td>0.000006</td>\n",
       "      <td>14.53</td>\n",
       "      <td>0.048447</td>\n",
       "      <td>13.199576</td>\n",
       "    </tr>\n",
       "    <tr>\n",
       "      <th>973</th>\n",
       "      <td>14796.09</td>\n",
       "      <td>0.000006</td>\n",
       "      <td>14.34</td>\n",
       "      <td>0.047785</td>\n",
       "      <td>13.199576</td>\n",
       "    </tr>\n",
       "    <tr>\n",
       "      <th>974</th>\n",
       "      <td>14829.87</td>\n",
       "      <td>0.000006</td>\n",
       "      <td>14.07</td>\n",
       "      <td>0.046889</td>\n",
       "      <td>13.199576</td>\n",
       "    </tr>\n",
       "    <tr>\n",
       "      <th>975</th>\n",
       "      <td>14985.41</td>\n",
       "      <td>0.000006</td>\n",
       "      <td>14.00</td>\n",
       "      <td>0.046656</td>\n",
       "      <td>13.199576</td>\n",
       "    </tr>\n",
       "    <tr>\n",
       "      <th>976</th>\n",
       "      <td>14913.58</td>\n",
       "      <td>0.000006</td>\n",
       "      <td>14.34</td>\n",
       "      <td>0.047791</td>\n",
       "      <td>13.199576</td>\n",
       "    </tr>\n",
       "    <tr>\n",
       "      <th>977</th>\n",
       "      <td>14865.46</td>\n",
       "      <td>0.000006</td>\n",
       "      <td>14.19</td>\n",
       "      <td>0.047313</td>\n",
       "      <td>13.199576</td>\n",
       "    </tr>\n",
       "    <tr>\n",
       "      <th>978</th>\n",
       "      <td>14916.58</td>\n",
       "      <td>0.000006</td>\n",
       "      <td>13.78</td>\n",
       "      <td>0.045948</td>\n",
       "      <td>13.199576</td>\n",
       "    </tr>\n",
       "    <tr>\n",
       "      <th>979</th>\n",
       "      <td>14878.70</td>\n",
       "      <td>0.000006</td>\n",
       "      <td>14.40</td>\n",
       "      <td>0.047995</td>\n",
       "      <td>13.199576</td>\n",
       "    </tr>\n",
       "    <tr>\n",
       "      <th>980</th>\n",
       "      <td>14877.45</td>\n",
       "      <td>0.000006</td>\n",
       "      <td>14.41</td>\n",
       "      <td>0.048028</td>\n",
       "      <td>13.199576</td>\n",
       "    </tr>\n",
       "    <tr>\n",
       "      <th>981</th>\n",
       "      <td>14867.99</td>\n",
       "      <td>0.000006</td>\n",
       "      <td>13.59</td>\n",
       "      <td>0.045301</td>\n",
       "      <td>13.199576</td>\n",
       "    </tr>\n",
       "    <tr>\n",
       "      <th>982</th>\n",
       "      <td>14988.62</td>\n",
       "      <td>0.000006</td>\n",
       "      <td>14.56</td>\n",
       "      <td>0.048530</td>\n",
       "      <td>13.199576</td>\n",
       "    </tr>\n",
       "    <tr>\n",
       "      <th>983</th>\n",
       "      <td>14690.70</td>\n",
       "      <td>0.000006</td>\n",
       "      <td>14.33</td>\n",
       "      <td>0.047767</td>\n",
       "      <td>13.199576</td>\n",
       "    </tr>\n",
       "    <tr>\n",
       "      <th>984</th>\n",
       "      <td>14804.32</td>\n",
       "      <td>0.000006</td>\n",
       "      <td>14.36</td>\n",
       "      <td>0.047879</td>\n",
       "      <td>13.199576</td>\n",
       "    </tr>\n",
       "    <tr>\n",
       "      <th>985</th>\n",
       "      <td>14924.11</td>\n",
       "      <td>0.000006</td>\n",
       "      <td>14.38</td>\n",
       "      <td>0.047949</td>\n",
       "      <td>13.199576</td>\n",
       "    </tr>\n",
       "    <tr>\n",
       "      <th>986</th>\n",
       "      <td>14688.42</td>\n",
       "      <td>0.000006</td>\n",
       "      <td>13.68</td>\n",
       "      <td>0.045602</td>\n",
       "      <td>13.199576</td>\n",
       "    </tr>\n",
       "    <tr>\n",
       "      <th>987</th>\n",
       "      <td>14768.79</td>\n",
       "      <td>0.000006</td>\n",
       "      <td>14.39</td>\n",
       "      <td>0.047972</td>\n",
       "      <td>13.199576</td>\n",
       "    </tr>\n",
       "    <tr>\n",
       "      <th>988</th>\n",
       "      <td>14970.59</td>\n",
       "      <td>0.000006</td>\n",
       "      <td>14.03</td>\n",
       "      <td>0.046763</td>\n",
       "      <td>13.199576</td>\n",
       "    </tr>\n",
       "    <tr>\n",
       "      <th>989</th>\n",
       "      <td>14907.48</td>\n",
       "      <td>0.000006</td>\n",
       "      <td>14.03</td>\n",
       "      <td>0.046767</td>\n",
       "      <td>13.199576</td>\n",
       "    </tr>\n",
       "    <tr>\n",
       "      <th>990</th>\n",
       "      <td>14901.61</td>\n",
       "      <td>0.000006</td>\n",
       "      <td>13.98</td>\n",
       "      <td>0.046608</td>\n",
       "      <td>13.199576</td>\n",
       "    </tr>\n",
       "    <tr>\n",
       "      <th>991</th>\n",
       "      <td>14764.09</td>\n",
       "      <td>0.000006</td>\n",
       "      <td>13.91</td>\n",
       "      <td>0.046383</td>\n",
       "      <td>13.199576</td>\n",
       "    </tr>\n",
       "    <tr>\n",
       "      <th>992</th>\n",
       "      <td>14919.16</td>\n",
       "      <td>0.000006</td>\n",
       "      <td>14.03</td>\n",
       "      <td>0.046774</td>\n",
       "      <td>13.199576</td>\n",
       "    </tr>\n",
       "    <tr>\n",
       "      <th>993</th>\n",
       "      <td>14810.79</td>\n",
       "      <td>0.000006</td>\n",
       "      <td>14.10</td>\n",
       "      <td>0.046984</td>\n",
       "      <td>13.199576</td>\n",
       "    </tr>\n",
       "    <tr>\n",
       "      <th>994</th>\n",
       "      <td>14730.64</td>\n",
       "      <td>0.000006</td>\n",
       "      <td>14.15</td>\n",
       "      <td>0.047156</td>\n",
       "      <td>13.199576</td>\n",
       "    </tr>\n",
       "    <tr>\n",
       "      <th>995</th>\n",
       "      <td>14880.08</td>\n",
       "      <td>0.000006</td>\n",
       "      <td>14.03</td>\n",
       "      <td>0.046757</td>\n",
       "      <td>13.199576</td>\n",
       "    </tr>\n",
       "    <tr>\n",
       "      <th>996</th>\n",
       "      <td>14889.78</td>\n",
       "      <td>0.000006</td>\n",
       "      <td>14.19</td>\n",
       "      <td>0.047316</td>\n",
       "      <td>13.199576</td>\n",
       "    </tr>\n",
       "    <tr>\n",
       "      <th>997</th>\n",
       "      <td>14684.66</td>\n",
       "      <td>0.000006</td>\n",
       "      <td>14.34</td>\n",
       "      <td>0.047812</td>\n",
       "      <td>13.199576</td>\n",
       "    </tr>\n",
       "    <tr>\n",
       "      <th>998</th>\n",
       "      <td>15100.28</td>\n",
       "      <td>0.000006</td>\n",
       "      <td>13.82</td>\n",
       "      <td>0.046070</td>\n",
       "      <td>13.199576</td>\n",
       "    </tr>\n",
       "    <tr>\n",
       "      <th>999</th>\n",
       "      <td>14902.68</td>\n",
       "      <td>0.000006</td>\n",
       "      <td>14.02</td>\n",
       "      <td>0.046731</td>\n",
       "      <td>13.199576</td>\n",
       "    </tr>\n",
       "  </tbody>\n",
       "</table>\n",
       "<p>1000 rows × 5 columns</p>\n",
       "</div>"
      ],
      "text/plain": [
       "     Btc_price  Daily_output  Cloud_price    Revenu  Reimbursement\n",
       "0     15029.82      0.000006        14.53  0.048442      13.199576\n",
       "1     14822.73      0.000006        14.40  0.048015      13.199576\n",
       "2     14866.79      0.000006        14.54  0.048478      13.199576\n",
       "3     14865.46      0.000006        14.13  0.047098      13.199576\n",
       "4     14693.40      0.000006        14.14  0.047149      13.199576\n",
       "5     14956.43      0.000006        14.02  0.046743      13.199576\n",
       "6     14786.22      0.000006        14.10  0.046995      13.199576\n",
       "7     15027.70      0.000006        14.58  0.048597      13.199576\n",
       "8     14953.39      0.000006        14.39  0.047969      13.199576\n",
       "9     14765.26      0.000006        13.59  0.045299      13.199576\n",
       "10    14753.38      0.000006        14.26  0.047531      13.199576\n",
       "11    14843.90      0.000006        14.49  0.048285      13.199576\n",
       "12    14876.46      0.000006        14.08  0.046931      13.199576\n",
       "13    14737.96      0.000006        14.63  0.048774      13.199576\n",
       "14    14978.04      0.000006        14.01  0.046692      13.199576\n",
       "15    14896.10      0.000006        14.28  0.047604      13.199576\n",
       "16    14892.01      0.000006        14.11  0.047045      13.199576\n",
       "17    14790.98      0.000006        14.03  0.046764      13.199576\n",
       "18    14802.82      0.000006        14.18  0.047273      13.199576\n",
       "19    14991.01      0.000006        14.47  0.048241      13.199576\n",
       "20    15019.85      0.000006        14.08  0.046942      13.199576\n",
       "21    14798.53      0.000006        14.07  0.046910      13.199576\n",
       "22    14970.15      0.000006        14.07  0.046886      13.199576\n",
       "23    14704.17      0.000006        14.24  0.047475      13.199576\n",
       "24    14965.53      0.000006        14.31  0.047704      13.199576\n",
       "25    14805.98      0.000006        14.30  0.047674      13.199576\n",
       "26    15074.55      0.000006        14.28  0.047613      13.199576\n",
       "27    14796.43      0.000006        14.46  0.048213      13.199576\n",
       "28    14917.14      0.000006        14.14  0.047141      13.199576\n",
       "29    14804.69      0.000006        14.29  0.047636      13.199576\n",
       "..         ...           ...          ...       ...            ...\n",
       "970   14737.41      0.000006        14.06  0.046862      13.199576\n",
       "971   14843.13      0.000006        14.51  0.048371      13.199576\n",
       "972   14839.42      0.000006        14.53  0.048447      13.199576\n",
       "973   14796.09      0.000006        14.34  0.047785      13.199576\n",
       "974   14829.87      0.000006        14.07  0.046889      13.199576\n",
       "975   14985.41      0.000006        14.00  0.046656      13.199576\n",
       "976   14913.58      0.000006        14.34  0.047791      13.199576\n",
       "977   14865.46      0.000006        14.19  0.047313      13.199576\n",
       "978   14916.58      0.000006        13.78  0.045948      13.199576\n",
       "979   14878.70      0.000006        14.40  0.047995      13.199576\n",
       "980   14877.45      0.000006        14.41  0.048028      13.199576\n",
       "981   14867.99      0.000006        13.59  0.045301      13.199576\n",
       "982   14988.62      0.000006        14.56  0.048530      13.199576\n",
       "983   14690.70      0.000006        14.33  0.047767      13.199576\n",
       "984   14804.32      0.000006        14.36  0.047879      13.199576\n",
       "985   14924.11      0.000006        14.38  0.047949      13.199576\n",
       "986   14688.42      0.000006        13.68  0.045602      13.199576\n",
       "987   14768.79      0.000006        14.39  0.047972      13.199576\n",
       "988   14970.59      0.000006        14.03  0.046763      13.199576\n",
       "989   14907.48      0.000006        14.03  0.046767      13.199576\n",
       "990   14901.61      0.000006        13.98  0.046608      13.199576\n",
       "991   14764.09      0.000006        13.91  0.046383      13.199576\n",
       "992   14919.16      0.000006        14.03  0.046774      13.199576\n",
       "993   14810.79      0.000006        14.10  0.046984      13.199576\n",
       "994   14730.64      0.000006        14.15  0.047156      13.199576\n",
       "995   14880.08      0.000006        14.03  0.046757      13.199576\n",
       "996   14889.78      0.000006        14.19  0.047316      13.199576\n",
       "997   14684.66      0.000006        14.34  0.047812      13.199576\n",
       "998   15100.28      0.000006        13.82  0.046070      13.199576\n",
       "999   14902.68      0.000006        14.02  0.046731      13.199576\n",
       "\n",
       "[1000 rows x 5 columns]"
      ]
     },
     "execution_count": 34,
     "metadata": {},
     "output_type": "execute_result"
    }
   ],
   "source": [
    "result_df"
   ]
  },
  {
   "cell_type": "code",
   "execution_count": 35,
   "metadata": {},
   "outputs": [],
   "source": [
    "#result_df.to_excel(excel_writer = r\"C:\\Users\\ding_\\Desktop\\云算力结果分段1.xlsx\")"
   ]
  },
  {
   "cell_type": "code",
   "execution_count": 36,
   "metadata": {},
   "outputs": [
    {
     "data": {
      "text/plain": [
       "[<matplotlib.lines.Line2D at 0x200e5da1ef0>]"
      ]
     },
     "execution_count": 36,
     "metadata": {},
     "output_type": "execute_result"
    },
    {
     "data": {
      "image/png": "[encoded data removed]",
      "text/plain": [
       "<Figure size 432x288 with 1 Axes>"
      ]
     },
     "metadata": {
      "needs_background": "light"
     },
     "output_type": "display_data"
    }
   ],
   "source": [
    "import matplotlib.pyplot as plt\n",
    "y = [20,200,2000,20000,200000]\n",
    "z = [30,300,3000,30000,300000]\n",
    "plt.loglog(y,z)"
   ]
  }
 ],
 "metadata": {
  "kernelspec": {
   "display_name": "Python 3",
   "language": "python",
   "name": "python3"
  },
  "language_info": {
   "codemirror_mode": {
    "name": "ipython",
    "version": 3
   },
   "file_extension": ".py",
   "mimetype": "text/x-python",
   "name": "python",
   "nbconvert_exporter": "python",
   "pygments_lexer": "ipython3",
   "version": "3.7.3"
  }
 },
 "nbformat": 4,
 "nbformat_minor": 2
}
